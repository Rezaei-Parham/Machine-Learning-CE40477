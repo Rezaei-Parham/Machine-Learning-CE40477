{
 "cells": [
  {
   "cell_type": "markdown",
   "id": "66b8b8e6",
   "metadata": {
    "papermill": {
     "duration": 0.007915,
     "end_time": "2024-01-03T08:52:20.117734",
     "exception": false,
     "start_time": "2024-01-03T08:52:20.109819",
     "status": "completed"
    },
    "tags": []
   },
   "source": [
    "# P0: Intro"
   ]
  },
  {
   "cell_type": "markdown",
   "id": "5fb3c21a",
   "metadata": {
    "papermill": {
     "duration": 0.007075,
     "end_time": "2024-01-03T08:52:20.132129",
     "exception": false,
     "start_time": "2024-01-03T08:52:20.125054",
     "status": "completed"
    },
    "tags": []
   },
   "source": [
    "<center><b>Machine Learning Project</b></center>\n",
    "<br><center><b>Sharif University of Technology - Fall 2023</b></center>"
   ]
  },
  {
   "cell_type": "markdown",
   "id": "fae03455",
   "metadata": {
    "papermill": {
     "duration": 0.007392,
     "end_time": "2024-01-03T08:52:20.147406",
     "exception": false,
     "start_time": "2024-01-03T08:52:20.140014",
     "status": "completed"
    },
    "tags": []
   },
   "source": [
    "<div style=\"text-align:justify\">Hopefully, the course has been insightful for you till now. This notebook serves as a template for the project which involves training a sentiment analyzer neural network using the comments of a Persian website and fine-tuning it using the comments of another.<br><br>\n",
    "The first website is Snappfood which is used by the people in Iran to order different kinds of food. The latter is Digikala, an online store for Iranians where people buy many things including smartphones, groceries, cars, and whatever you consider legal. Both websites provide users with ways to express their opinions about the products.<br><br>\n",
    "A domain shift may be revealed to some degree when switching from Snappfood comments to the ones extracted from Digikala. This will be one of the challenges you will be faced with. So, beware of it!</div>"
   ]
  },
  {
   "cell_type": "markdown",
   "id": "ceb26f28",
   "metadata": {
    "papermill": {
     "duration": 0.007436,
     "end_time": "2024-01-03T08:52:20.162309",
     "exception": false,
     "start_time": "2024-01-03T08:52:20.154873",
     "status": "completed"
    },
    "tags": []
   },
   "source": [
    "# P1: Exploring the Datasets (25 points)"
   ]
  },
  {
   "cell_type": "markdown",
   "id": "23bb7bbf",
   "metadata": {
    "papermill": {
     "duration": 0.006826,
     "end_time": "2024-01-03T08:52:20.176330",
     "exception": false,
     "start_time": "2024-01-03T08:52:20.169504",
     "status": "completed"
    },
    "tags": []
   },
   "source": [
    "Both of the datasets are added to the notebook. In this part, we want to explore their contents. "
   ]
  },
  {
   "cell_type": "code",
   "execution_count": 1,
   "id": "ce583874",
   "metadata": {},
   "outputs": [],
   "source": [
    "import pandas as pd\n",
    "import numpy as np\n",
    "import matplotlib.pyplot as plt"
   ]
  },
  {
   "cell_type": "markdown",
   "id": "2cb92f67",
   "metadata": {
    "papermill": {
     "duration": 0.006935,
     "end_time": "2024-01-03T08:52:20.190514",
     "exception": false,
     "start_time": "2024-01-03T08:52:20.183579",
     "status": "completed"
    },
    "tags": []
   },
   "source": [
    "Load both of the datasets "
   ]
  },
  {
   "cell_type": "code",
   "execution_count": 2,
   "id": "3b24d155",
   "metadata": {
    "papermill": {
     "duration": 0.006945,
     "end_time": "2024-01-03T08:52:20.204791",
     "exception": false,
     "start_time": "2024-01-03T08:52:20.197846",
     "status": "completed"
    },
    "tags": []
   },
   "outputs": [],
   "source": [
    "snappdf = pd.read_csv('SnappfoodData.csv', on_bad_lines='skip' , delimiter='\\t')\n",
    "digidf = pd.read_csv('DigikalaData.csv')"
   ]
  },
  {
   "cell_type": "code",
   "execution_count": 3,
   "id": "db5cb8e8",
   "metadata": {},
   "outputs": [
    {
     "name": "stdout",
     "output_type": "stream",
     "text": [
      "  Unnamed: 0                                            comment  label  \\\n",
      "0        NaN    واقعا حیف وقت که بنویسم سرویس دهیتون شده افتضاح    SAD   \n",
      "1        NaN  قرار بود ۱ ساعته برسه ولی نیم ساعت زودتر از مو...  HAPPY   \n",
      "2        NaN  قیمت این مدل اصلا با کیفیتش سازگاری نداره، فقط...    SAD   \n",
      "3        NaN  عالللی بود همه چه درست و به اندازه و کیفیت خوب...  HAPPY   \n",
      "4        NaN                      شیرینی وانیلی فقط یک مدل بود.  HAPPY   \n",
      "\n",
      "   label_id  \n",
      "0       1.0  \n",
      "1       0.0  \n",
      "2       1.0  \n",
      "3       0.0  \n",
      "4       0.0  \n"
     ]
    },
    {
     "data": {
      "text/html": [
       "<div>\n",
       "<style scoped>\n",
       "    .dataframe tbody tr th:only-of-type {\n",
       "        vertical-align: middle;\n",
       "    }\n",
       "\n",
       "    .dataframe tbody tr th {\n",
       "        vertical-align: top;\n",
       "    }\n",
       "\n",
       "    .dataframe thead th {\n",
       "        text-align: right;\n",
       "    }\n",
       "</style>\n",
       "<table border=\"1\" class=\"dataframe\">\n",
       "  <thead>\n",
       "    <tr style=\"text-align: right;\">\n",
       "      <th></th>\n",
       "      <th>Text</th>\n",
       "      <th>Score</th>\n",
       "      <th>Suggestion</th>\n",
       "    </tr>\n",
       "  </thead>\n",
       "  <tbody>\n",
       "    <tr>\n",
       "      <th>0</th>\n",
       "      <td>این اولین تجربه من برای خرید ایفون هست   امروز...</td>\n",
       "      <td>100</td>\n",
       "      <td>1</td>\n",
       "    </tr>\n",
       "    <tr>\n",
       "      <th>1</th>\n",
       "      <td>خرید این محصول رو توصیه میکنم</td>\n",
       "      <td>84</td>\n",
       "      <td>1</td>\n",
       "    </tr>\n",
       "    <tr>\n",
       "      <th>2</th>\n",
       "      <td>1 ساله این گوشی رو دارم   هیچ نقطه ضعفی ازش ند...</td>\n",
       "      <td>60</td>\n",
       "      <td>1</td>\n",
       "    </tr>\n",
       "    <tr>\n",
       "      <th>3</th>\n",
       "      <td>سلام خدمت دوستان این گوشی از همه نظر عالی  کیف...</td>\n",
       "      <td>96</td>\n",
       "      <td>1</td>\n",
       "    </tr>\n",
       "    <tr>\n",
       "      <th>4</th>\n",
       "      <td>سلام دوستانی که نگران شکستن صفحه نمایش هستند ا...</td>\n",
       "      <td>92</td>\n",
       "      <td>1</td>\n",
       "    </tr>\n",
       "  </tbody>\n",
       "</table>\n",
       "</div>"
      ],
      "text/plain": [
       "                                                Text  Score  Suggestion\n",
       "0  این اولین تجربه من برای خرید ایفون هست   امروز...    100           1\n",
       "1                     خرید این محصول رو توصیه میکنم      84           1\n",
       "2  1 ساله این گوشی رو دارم   هیچ نقطه ضعفی ازش ند...     60           1\n",
       "3  سلام خدمت دوستان این گوشی از همه نظر عالی  کیف...     96           1\n",
       "4  سلام دوستانی که نگران شکستن صفحه نمایش هستند ا...     92           1"
      ]
     },
     "execution_count": 3,
     "metadata": {},
     "output_type": "execute_result"
    }
   ],
   "source": [
    "print(snappdf.head())\n",
    "digidf.head()"
   ]
  },
  {
   "cell_type": "markdown",
   "id": "a1d2836d",
   "metadata": {
    "papermill": {
     "duration": 0.007804,
     "end_time": "2024-01-03T08:52:20.220114",
     "exception": false,
     "start_time": "2024-01-03T08:52:20.212310",
     "status": "completed"
    },
    "tags": []
   },
   "source": [
    "Count the number of comments each dataset contains **(P1-1: 5 points)**"
   ]
  },
  {
   "cell_type": "code",
   "execution_count": 4,
   "id": "eb86aeef",
   "metadata": {
    "papermill": {
     "duration": 0.006489,
     "end_time": "2024-01-03T08:52:20.233689",
     "exception": false,
     "start_time": "2024-01-03T08:52:20.227200",
     "status": "completed"
    },
    "tags": []
   },
   "outputs": [
    {
     "data": {
      "text/html": [
       "<div>\n",
       "<style scoped>\n",
       "    .dataframe tbody tr th:only-of-type {\n",
       "        vertical-align: middle;\n",
       "    }\n",
       "\n",
       "    .dataframe tbody tr th {\n",
       "        vertical-align: top;\n",
       "    }\n",
       "\n",
       "    .dataframe thead th {\n",
       "        text-align: right;\n",
       "    }\n",
       "</style>\n",
       "<table border=\"1\" class=\"dataframe\">\n",
       "  <thead>\n",
       "    <tr style=\"text-align: right;\">\n",
       "      <th></th>\n",
       "      <th>comment</th>\n",
       "      <th>label</th>\n",
       "      <th>label_id</th>\n",
       "    </tr>\n",
       "  </thead>\n",
       "  <tbody>\n",
       "    <tr>\n",
       "      <th>0</th>\n",
       "      <td>واقعا حیف وقت که بنویسم سرویس دهیتون شده افتضاح</td>\n",
       "      <td>SAD</td>\n",
       "      <td>1.0</td>\n",
       "    </tr>\n",
       "    <tr>\n",
       "      <th>1</th>\n",
       "      <td>قرار بود ۱ ساعته برسه ولی نیم ساعت زودتر از مو...</td>\n",
       "      <td>HAPPY</td>\n",
       "      <td>0.0</td>\n",
       "    </tr>\n",
       "    <tr>\n",
       "      <th>2</th>\n",
       "      <td>قیمت این مدل اصلا با کیفیتش سازگاری نداره، فقط...</td>\n",
       "      <td>SAD</td>\n",
       "      <td>1.0</td>\n",
       "    </tr>\n",
       "    <tr>\n",
       "      <th>3</th>\n",
       "      <td>عالللی بود همه چه درست و به اندازه و کیفیت خوب...</td>\n",
       "      <td>HAPPY</td>\n",
       "      <td>0.0</td>\n",
       "    </tr>\n",
       "    <tr>\n",
       "      <th>4</th>\n",
       "      <td>شیرینی وانیلی فقط یک مدل بود.</td>\n",
       "      <td>HAPPY</td>\n",
       "      <td>0.0</td>\n",
       "    </tr>\n",
       "  </tbody>\n",
       "</table>\n",
       "</div>"
      ],
      "text/plain": [
       "                                             comment  label  label_id\n",
       "0    واقعا حیف وقت که بنویسم سرویس دهیتون شده افتضاح    SAD       1.0\n",
       "1  قرار بود ۱ ساعته برسه ولی نیم ساعت زودتر از مو...  HAPPY       0.0\n",
       "2  قیمت این مدل اصلا با کیفیتش سازگاری نداره، فقط...    SAD       1.0\n",
       "3  عالللی بود همه چه درست و به اندازه و کیفیت خوب...  HAPPY       0.0\n",
       "4                      شیرینی وانیلی فقط یک مدل بود.  HAPPY       0.0"
      ]
     },
     "execution_count": 4,
     "metadata": {},
     "output_type": "execute_result"
    }
   ],
   "source": [
    "# remove Unnamed: 0 column\n",
    "snappdf.drop('Unnamed: 0', axis=1, inplace=True)\n",
    "snappdf.head()"
   ]
  },
  {
   "cell_type": "code",
   "execution_count": 5,
   "id": "67a89704",
   "metadata": {},
   "outputs": [],
   "source": [
    "# remove nan values\n",
    "snappdf.dropna(inplace=True)\n",
    "digidf.dropna(inplace=True)"
   ]
  },
  {
   "cell_type": "code",
   "execution_count": 6,
   "id": "2896ed1d",
   "metadata": {},
   "outputs": [
    {
     "name": "stdout",
     "output_type": "stream",
     "text": [
      "Number of comments in Snappfood dataset:  69480\n",
      "Number of comments in Digikala dataset:  3261\n"
     ]
    }
   ],
   "source": [
    "# count number of comments in each dataset\n",
    "print('Number of comments in Snappfood dataset: ', len(snappdf))\n",
    "print('Number of comments in Digikala dataset: ', len(digidf))"
   ]
  },
  {
   "cell_type": "markdown",
   "id": "6bde9531",
   "metadata": {
    "papermill": {
     "duration": 0.006691,
     "end_time": "2024-01-03T08:52:20.247325",
     "exception": false,
     "start_time": "2024-01-03T08:52:20.240634",
     "status": "completed"
    },
    "tags": []
   },
   "source": [
    "Represent the distribution of comments in the Snappfood dataset in terms of being negative or positive **(P1-2: 5 points)**"
   ]
  },
  {
   "cell_type": "code",
   "execution_count": 7,
   "id": "01eda683",
   "metadata": {
    "papermill": {
     "duration": 0.006644,
     "end_time": "2024-01-03T08:52:20.261211",
     "exception": false,
     "start_time": "2024-01-03T08:52:20.254567",
     "status": "completed"
    },
    "tags": []
   },
   "outputs": [
    {
     "data": {
      "image/png": "[encoded data removed]",
      "text/plain": [
       "<Figure size 432x288 with 1 Axes>"
      ]
     },
     "metadata": {
      "needs_background": "light"
     },
     "output_type": "display_data"
    },
    {
     "name": "stdout",
     "output_type": "stream",
     "text": [
      "HAPPY    34916\n",
      "SAD      34564\n",
      "Name: label, dtype: int64\n"
     ]
    }
   ],
   "source": [
    "# represent distribution of comments in snappdf based on label\n",
    "snappdf['label'].value_counts().plot(kind='bar')\n",
    "plt.title('Distribution of comments in Snappfood dataset')\n",
    "plt.xlabel('Label')\n",
    "plt.ylabel('Number of comments')\n",
    "plt.show()\n",
    "print(snappdf['label'].value_counts())"
   ]
  },
  {
   "cell_type": "markdown",
   "id": "abc9c734",
   "metadata": {
    "papermill": {
     "duration": 0.006487,
     "end_time": "2024-01-03T08:52:20.274752",
     "exception": false,
     "start_time": "2024-01-03T08:52:20.268265",
     "status": "completed"
    },
    "tags": []
   },
   "source": [
    "Plot the logarithm of the frequency of words as a function of the logarithm of their rank to demonstrate the Zipf's law. <br>\n",
    "Note: Don't panic! The Zipf's law can be found here: https://nlp.stanford.edu/IR-book/html/htmledition/zipfs-law-modeling-the-distribution-of-terms-1.html and can be easily understood. **(P1-3: 5 points)**"
   ]
  },
  {
   "cell_type": "code",
   "execution_count": 8,
   "id": "b2bc03e7",
   "metadata": {
    "papermill": {
     "duration": 0.006515,
     "end_time": "2024-01-03T08:52:20.288343",
     "exception": false,
     "start_time": "2024-01-03T08:52:20.281828",
     "status": "completed"
    },
    "tags": []
   },
   "outputs": [
    {
     "data": {
      "image/png": "[encoded data removed]",
      "text/plain": [
       "<Figure size 432x288 with 1 Axes>"
      ]
     },
     "metadata": {
      "needs_background": "light"
     },
     "output_type": "display_data"
    }
   ],
   "source": [
    "#Plot the logarithm of the frequency of words as a function of the logarithm of their rank to demonstrate the Zipf's law.\n",
    "from collections import Counter\n",
    "import math\n",
    "import matplotlib.pyplot as plt\n",
    "import seaborn as sns\n",
    "\n",
    "def plot_zipf_law(data, title):\n",
    "    counts = Counter(data)\n",
    "    tokens = sorted(counts.items(), key=lambda x: x[1], reverse=True)\n",
    "    ranks = range(1, len(counts) + 1)\n",
    "    frequencies = [count for _, count in tokens]\n",
    "    # plot 1/i values\n",
    "    est = [1/i for i in ranks]\n",
    "    plt.plot(frequencies)\n",
    "    plt.plot(est)\n",
    "\n",
    "plot_zipf_law(snappdf,\"\")\n",
    "    "
   ]
  },
  {
   "cell_type": "markdown",
   "id": "0beddd5e",
   "metadata": {
    "papermill": {
     "duration": 0.006859,
     "end_time": "2024-01-03T08:52:20.303552",
     "exception": false,
     "start_time": "2024-01-03T08:52:20.296693",
     "status": "completed"
    },
    "tags": []
   },
   "source": [
    "Add a new column to the Digikala dataset indicating whether the comment was positive, negative, or neutral. This will be needed later for classification. <br>\n",
    "Note: This can be done in many ways. You should the appropriate method. **(P1-4: 5 points)**"
   ]
  },
  {
   "cell_type": "code",
   "execution_count": 23,
   "id": "658d4673",
   "metadata": {
    "papermill": {
     "duration": 0.006751,
     "end_time": "2024-01-03T08:52:20.317491",
     "exception": false,
     "start_time": "2024-01-03T08:52:20.310740",
     "status": "completed"
    },
    "tags": []
   },
   "outputs": [
    {
     "data": {
      "text/html": [
       "<div>\n",
       "<style scoped>\n",
       "    .dataframe tbody tr th:only-of-type {\n",
       "        vertical-align: middle;\n",
       "    }\n",
       "\n",
       "    .dataframe tbody tr th {\n",
       "        vertical-align: top;\n",
       "    }\n",
       "\n",
       "    .dataframe thead th {\n",
       "        text-align: right;\n",
       "    }\n",
       "</style>\n",
       "<table border=\"1\" class=\"dataframe\">\n",
       "  <thead>\n",
       "    <tr style=\"text-align: right;\">\n",
       "      <th></th>\n",
       "      <th>Text</th>\n",
       "      <th>Score</th>\n",
       "      <th>Suggestion</th>\n",
       "      <th>label</th>\n",
       "    </tr>\n",
       "  </thead>\n",
       "  <tbody>\n",
       "    <tr>\n",
       "      <th>0</th>\n",
       "      <td>این اولین تجربه من برای خرید ایفون هست   امروز...</td>\n",
       "      <td>100</td>\n",
       "      <td>1</td>\n",
       "      <td>positive</td>\n",
       "    </tr>\n",
       "    <tr>\n",
       "      <th>1</th>\n",
       "      <td>خرید این محصول رو توصیه میکنم</td>\n",
       "      <td>84</td>\n",
       "      <td>1</td>\n",
       "      <td>positive</td>\n",
       "    </tr>\n",
       "    <tr>\n",
       "      <th>2</th>\n",
       "      <td>1 ساله این گوشی رو دارم   هیچ نقطه ضعفی ازش ند...</td>\n",
       "      <td>60</td>\n",
       "      <td>1</td>\n",
       "      <td>neutral</td>\n",
       "    </tr>\n",
       "    <tr>\n",
       "      <th>3</th>\n",
       "      <td>سلام خدمت دوستان این گوشی از همه نظر عالی  کیف...</td>\n",
       "      <td>96</td>\n",
       "      <td>1</td>\n",
       "      <td>positive</td>\n",
       "    </tr>\n",
       "    <tr>\n",
       "      <th>4</th>\n",
       "      <td>سلام دوستانی که نگران شکستن صفحه نمایش هستند ا...</td>\n",
       "      <td>92</td>\n",
       "      <td>1</td>\n",
       "      <td>positive</td>\n",
       "    </tr>\n",
       "  </tbody>\n",
       "</table>\n",
       "</div>"
      ],
      "text/plain": [
       "                                                Text  Score  Suggestion  \\\n",
       "0  این اولین تجربه من برای خرید ایفون هست   امروز...    100           1   \n",
       "1                     خرید این محصول رو توصیه میکنم      84           1   \n",
       "2  1 ساله این گوشی رو دارم   هیچ نقطه ضعفی ازش ند...     60           1   \n",
       "3  سلام خدمت دوستان این گوشی از همه نظر عالی  کیف...     96           1   \n",
       "4  سلام دوستانی که نگران شکستن صفحه نمایش هستند ا...     92           1   \n",
       "\n",
       "      label  \n",
       "0  positive  \n",
       "1  positive  \n",
       "2   neutral  \n",
       "3  positive  \n",
       "4  positive  "
      ]
     },
     "execution_count": 23,
     "metadata": {},
     "output_type": "execute_result"
    }
   ],
   "source": [
    "digidf['label'] = digidf['Score'].apply(lambda x: 'positive' if x > 66 else ('neutral' if x > 33 else 'negative'))\n",
    "digidf.head()"
   ]
  },
  {
   "cell_type": "markdown",
   "id": "44492b9e",
   "metadata": {
    "papermill": {
     "duration": 0.006564,
     "end_time": "2024-01-03T08:52:20.331225",
     "exception": false,
     "start_time": "2024-01-03T08:52:20.324661",
     "status": "completed"
    },
    "tags": []
   },
   "source": [
    "Split each dataset into training, testing, and validation sets. **(P1-5: 5 points)**"
   ]
  },
  {
   "cell_type": "code",
   "execution_count": 24,
   "id": "efea645a",
   "metadata": {
    "papermill": {
     "duration": 0.006691,
     "end_time": "2024-01-03T08:52:20.344876",
     "exception": false,
     "start_time": "2024-01-03T08:52:20.338185",
     "status": "completed"
    },
    "tags": []
   },
   "outputs": [
    {
     "ename": "AttributeError",
     "evalue": "module 'numpy.linalg._umath_linalg' has no attribute '_ilp64'",
     "output_type": "error",
     "traceback": [
      "\u001b[0;31m---------------------------------------------------------------------------\u001b[0m",
      "\u001b[0;31mAttributeError\u001b[0m                            Traceback (most recent call last)",
      "Input \u001b[0;32mIn [24]\u001b[0m, in \u001b[0;36m<cell line: 1>\u001b[0;34m()\u001b[0m\n\u001b[0;32m----> 1\u001b[0m \u001b[38;5;28;01mfrom\u001b[39;00m \u001b[38;5;21;01msklearn\u001b[39;00m\u001b[38;5;21;01m.\u001b[39;00m\u001b[38;5;21;01mmodel_selection\u001b[39;00m \u001b[38;5;28;01mimport\u001b[39;00m train_test_split\n\u001b[1;32m      2\u001b[0m digi_train, digi_test \u001b[38;5;241m=\u001b[39m train_test_split(digidf, test_size\u001b[38;5;241m=\u001b[39m\u001b[38;5;241m0.2\u001b[39m, random_state\u001b[38;5;241m=\u001b[39m\u001b[38;5;241m42\u001b[39m)\n\u001b[1;32m      3\u001b[0m digi_val, digi_test \u001b[38;5;241m=\u001b[39m train_test_split(digi_test, test_size\u001b[38;5;241m=\u001b[39m\u001b[38;5;241m0.5\u001b[39m, random_state\u001b[38;5;241m=\u001b[39m\u001b[38;5;241m42\u001b[39m)\n",
      "File \u001b[0;32m~/opt/anaconda3/lib/python3.9/site-packages/sklearn/__init__.py:87\u001b[0m, in \u001b[0;36m<module>\u001b[0;34m\u001b[0m\n\u001b[1;32m     73\u001b[0m     \u001b[38;5;66;03m# We are not importing the rest of scikit-learn during the build\u001b[39;00m\n\u001b[1;32m     74\u001b[0m     \u001b[38;5;66;03m# process, as it may not be compiled yet\u001b[39;00m\n\u001b[1;32m     75\u001b[0m \u001b[38;5;28;01melse\u001b[39;00m:\n\u001b[0;32m   (...)\u001b[0m\n\u001b[1;32m     81\u001b[0m     \u001b[38;5;66;03m# later is linked to the OpenMP runtime to make it possible to introspect\u001b[39;00m\n\u001b[1;32m     82\u001b[0m     \u001b[38;5;66;03m# it and importing it first would fail if the OpenMP dll cannot be found.\u001b[39;00m\n\u001b[1;32m     83\u001b[0m     \u001b[38;5;28;01mfrom\u001b[39;00m \u001b[38;5;21;01m.\u001b[39;00m \u001b[38;5;28;01mimport\u001b[39;00m (\n\u001b[1;32m     84\u001b[0m         __check_build,  \u001b[38;5;66;03m# noqa: F401\u001b[39;00m\n\u001b[1;32m     85\u001b[0m         _distributor_init,  \u001b[38;5;66;03m# noqa: F401\u001b[39;00m\n\u001b[1;32m     86\u001b[0m     )\n\u001b[0;32m---> 87\u001b[0m     \u001b[38;5;28;01mfrom\u001b[39;00m \u001b[38;5;21;01m.\u001b[39;00m\u001b[38;5;21;01mbase\u001b[39;00m \u001b[38;5;28;01mimport\u001b[39;00m clone\n\u001b[1;32m     88\u001b[0m     \u001b[38;5;28;01mfrom\u001b[39;00m \u001b[38;5;21;01m.\u001b[39;00m\u001b[38;5;21;01mutils\u001b[39;00m\u001b[38;5;21;01m.\u001b[39;00m\u001b[38;5;21;01m_show_versions\u001b[39;00m \u001b[38;5;28;01mimport\u001b[39;00m show_versions\n\u001b[1;32m     90\u001b[0m     __all__ \u001b[38;5;241m=\u001b[39m [\n\u001b[1;32m     91\u001b[0m         \u001b[38;5;124m\"\u001b[39m\u001b[38;5;124mcalibration\u001b[39m\u001b[38;5;124m\"\u001b[39m,\n\u001b[1;32m     92\u001b[0m         \u001b[38;5;124m\"\u001b[39m\u001b[38;5;124mcluster\u001b[39m\u001b[38;5;124m\"\u001b[39m,\n\u001b[0;32m   (...)\u001b[0m\n\u001b[1;32m    133\u001b[0m         \u001b[38;5;124m\"\u001b[39m\u001b[38;5;124mshow_versions\u001b[39m\u001b[38;5;124m\"\u001b[39m,\n\u001b[1;32m    134\u001b[0m     ]\n",
      "File \u001b[0;32m~/opt/anaconda3/lib/python3.9/site-packages/sklearn/base.py:19\u001b[0m, in \u001b[0;36m<module>\u001b[0;34m\u001b[0m\n\u001b[1;32m     17\u001b[0m \u001b[38;5;28;01mfrom\u001b[39;00m \u001b[38;5;21;01m.\u001b[39;00m\u001b[38;5;21;01m_config\u001b[39;00m \u001b[38;5;28;01mimport\u001b[39;00m config_context, get_config\n\u001b[1;32m     18\u001b[0m \u001b[38;5;28;01mfrom\u001b[39;00m \u001b[38;5;21;01m.\u001b[39;00m\u001b[38;5;21;01mexceptions\u001b[39;00m \u001b[38;5;28;01mimport\u001b[39;00m InconsistentVersionWarning\n\u001b[0;32m---> 19\u001b[0m \u001b[38;5;28;01mfrom\u001b[39;00m \u001b[38;5;21;01m.\u001b[39;00m\u001b[38;5;21;01mutils\u001b[39;00m \u001b[38;5;28;01mimport\u001b[39;00m _IS_32BIT\n\u001b[1;32m     20\u001b[0m \u001b[38;5;28;01mfrom\u001b[39;00m \u001b[38;5;21;01m.\u001b[39;00m\u001b[38;5;21;01mutils\u001b[39;00m\u001b[38;5;21;01m.\u001b[39;00m\u001b[38;5;21;01m_estimator_html_repr\u001b[39;00m \u001b[38;5;28;01mimport\u001b[39;00m _HTMLDocumentationLinkMixin, estimator_html_repr\n\u001b[1;32m     21\u001b[0m \u001b[38;5;28;01mfrom\u001b[39;00m \u001b[38;5;21;01m.\u001b[39;00m\u001b[38;5;21;01mutils\u001b[39;00m\u001b[38;5;21;01m.\u001b[39;00m\u001b[38;5;21;01m_metadata_requests\u001b[39;00m \u001b[38;5;28;01mimport\u001b[39;00m _MetadataRequester, _routing_enabled\n",
      "File \u001b[0;32m~/opt/anaconda3/lib/python3.9/site-packages/sklearn/utils/__init__.py:16\u001b[0m, in \u001b[0;36m<module>\u001b[0;34m\u001b[0m\n\u001b[1;32m     13\u001b[0m \u001b[38;5;28;01mfrom\u001b[39;00m \u001b[38;5;21;01mitertools\u001b[39;00m \u001b[38;5;28;01mimport\u001b[39;00m compress, islice\n\u001b[1;32m     15\u001b[0m \u001b[38;5;28;01mimport\u001b[39;00m \u001b[38;5;21;01mnumpy\u001b[39;00m \u001b[38;5;28;01mas\u001b[39;00m \u001b[38;5;21;01mnp\u001b[39;00m\n\u001b[0;32m---> 16\u001b[0m \u001b[38;5;28;01mfrom\u001b[39;00m \u001b[38;5;21;01mscipy\u001b[39;00m\u001b[38;5;21;01m.\u001b[39;00m\u001b[38;5;21;01msparse\u001b[39;00m \u001b[38;5;28;01mimport\u001b[39;00m issparse\n\u001b[1;32m     18\u001b[0m \u001b[38;5;28;01mfrom\u001b[39;00m \u001b[38;5;21;01m.\u001b[39;00m\u001b[38;5;21;01m.\u001b[39;00m \u001b[38;5;28;01mimport\u001b[39;00m get_config\n\u001b[1;32m     19\u001b[0m \u001b[38;5;28;01mfrom\u001b[39;00m \u001b[38;5;21;01m.\u001b[39;00m\u001b[38;5;21;01m.\u001b[39;00m\u001b[38;5;21;01mexceptions\u001b[39;00m \u001b[38;5;28;01mimport\u001b[39;00m DataConversionWarning\n",
      "File \u001b[0;32m~/opt/anaconda3/lib/python3.9/site-packages/scipy/sparse/__init__.py:294\u001b[0m, in \u001b[0;36m<module>\u001b[0;34m\u001b[0m\n\u001b[1;32m    288\u001b[0m \u001b[38;5;66;03m# Original code by Travis Oliphant.\u001b[39;00m\n\u001b[1;32m    289\u001b[0m \u001b[38;5;66;03m# Modified and extended by Ed Schofield, Robert Cimrman,\u001b[39;00m\n\u001b[1;32m    290\u001b[0m \u001b[38;5;66;03m# Nathan Bell, and Jake Vanderplas.\u001b[39;00m\n\u001b[1;32m    292\u001b[0m \u001b[38;5;28;01mimport\u001b[39;00m \u001b[38;5;21;01mwarnings\u001b[39;00m \u001b[38;5;28;01mas\u001b[39;00m \u001b[38;5;21;01m_warnings\u001b[39;00m\n\u001b[0;32m--> 294\u001b[0m \u001b[38;5;28;01mfrom\u001b[39;00m \u001b[38;5;21;01m.\u001b[39;00m\u001b[38;5;21;01m_base\u001b[39;00m \u001b[38;5;28;01mimport\u001b[39;00m \u001b[38;5;241m*\u001b[39m\n\u001b[1;32m    295\u001b[0m \u001b[38;5;28;01mfrom\u001b[39;00m \u001b[38;5;21;01m.\u001b[39;00m\u001b[38;5;21;01m_csr\u001b[39;00m \u001b[38;5;28;01mimport\u001b[39;00m \u001b[38;5;241m*\u001b[39m\n\u001b[1;32m    296\u001b[0m \u001b[38;5;28;01mfrom\u001b[39;00m \u001b[38;5;21;01m.\u001b[39;00m\u001b[38;5;21;01m_csc\u001b[39;00m \u001b[38;5;28;01mimport\u001b[39;00m \u001b[38;5;241m*\u001b[39m\n",
      "File \u001b[0;32m~/opt/anaconda3/lib/python3.9/site-packages/scipy/sparse/_base.py:5\u001b[0m, in \u001b[0;36m<module>\u001b[0;34m\u001b[0m\n\u001b[1;32m      2\u001b[0m \u001b[38;5;28;01mfrom\u001b[39;00m \u001b[38;5;21;01mwarnings\u001b[39;00m \u001b[38;5;28;01mimport\u001b[39;00m warn\n\u001b[1;32m      4\u001b[0m \u001b[38;5;28;01mimport\u001b[39;00m \u001b[38;5;21;01mnumpy\u001b[39;00m \u001b[38;5;28;01mas\u001b[39;00m \u001b[38;5;21;01mnp\u001b[39;00m\n\u001b[0;32m----> 5\u001b[0m \u001b[38;5;28;01mfrom\u001b[39;00m \u001b[38;5;21;01mscipy\u001b[39;00m\u001b[38;5;21;01m.\u001b[39;00m\u001b[38;5;21;01m_lib\u001b[39;00m\u001b[38;5;21;01m.\u001b[39;00m\u001b[38;5;21;01m_util\u001b[39;00m \u001b[38;5;28;01mimport\u001b[39;00m VisibleDeprecationWarning\n\u001b[1;32m      7\u001b[0m \u001b[38;5;28;01mfrom\u001b[39;00m \u001b[38;5;21;01m.\u001b[39;00m\u001b[38;5;21;01m_sputils\u001b[39;00m \u001b[38;5;28;01mimport\u001b[39;00m (asmatrix, check_reshape_kwargs, check_shape,\n\u001b[1;32m      8\u001b[0m                        get_sum_dtype, isdense, isscalarlike,\n\u001b[1;32m      9\u001b[0m                        matrix, validateaxis,)\n\u001b[1;32m     11\u001b[0m \u001b[38;5;28;01mfrom\u001b[39;00m \u001b[38;5;21;01m.\u001b[39;00m\u001b[38;5;21;01m_matrix\u001b[39;00m \u001b[38;5;28;01mimport\u001b[39;00m spmatrix\n",
      "File \u001b[0;32m~/opt/anaconda3/lib/python3.9/site-packages/scipy/_lib/_util.py:18\u001b[0m, in \u001b[0;36m<module>\u001b[0;34m\u001b[0m\n\u001b[1;32m     10\u001b[0m \u001b[38;5;28;01mfrom\u001b[39;00m \u001b[38;5;21;01mtyping\u001b[39;00m \u001b[38;5;28;01mimport\u001b[39;00m (\n\u001b[1;32m     11\u001b[0m     Optional,\n\u001b[1;32m     12\u001b[0m     Union,\n\u001b[1;32m     13\u001b[0m     TYPE_CHECKING,\n\u001b[1;32m     14\u001b[0m     TypeVar,\n\u001b[1;32m     15\u001b[0m )\n\u001b[1;32m     17\u001b[0m \u001b[38;5;28;01mimport\u001b[39;00m \u001b[38;5;21;01mnumpy\u001b[39;00m \u001b[38;5;28;01mas\u001b[39;00m \u001b[38;5;21;01mnp\u001b[39;00m\n\u001b[0;32m---> 18\u001b[0m \u001b[38;5;28;01mfrom\u001b[39;00m \u001b[38;5;21;01mscipy\u001b[39;00m\u001b[38;5;21;01m.\u001b[39;00m\u001b[38;5;21;01m_lib\u001b[39;00m\u001b[38;5;21;01m.\u001b[39;00m\u001b[38;5;21;01m_array_api\u001b[39;00m \u001b[38;5;28;01mimport\u001b[39;00m array_namespace\n\u001b[1;32m     21\u001b[0m AxisError: \u001b[38;5;28mtype\u001b[39m[\u001b[38;5;167;01mException\u001b[39;00m]\n\u001b[1;32m     22\u001b[0m ComplexWarning: \u001b[38;5;28mtype\u001b[39m[\u001b[38;5;167;01mWarning\u001b[39;00m]\n",
      "File \u001b[0;32m~/opt/anaconda3/lib/python3.9/site-packages/scipy/_lib/_array_api.py:15\u001b[0m, in \u001b[0;36m<module>\u001b[0;34m\u001b[0m\n\u001b[1;32m     12\u001b[0m \u001b[38;5;28;01mimport\u001b[39;00m \u001b[38;5;21;01mwarnings\u001b[39;00m\n\u001b[1;32m     14\u001b[0m \u001b[38;5;28;01mimport\u001b[39;00m \u001b[38;5;21;01mnumpy\u001b[39;00m \u001b[38;5;28;01mas\u001b[39;00m \u001b[38;5;21;01mnp\u001b[39;00m\n\u001b[0;32m---> 15\u001b[0m \u001b[38;5;28;01mfrom\u001b[39;00m \u001b[38;5;21;01mnumpy\u001b[39;00m\u001b[38;5;21;01m.\u001b[39;00m\u001b[38;5;21;01mtesting\u001b[39;00m \u001b[38;5;28;01mimport\u001b[39;00m assert_\n\u001b[1;32m     16\u001b[0m \u001b[38;5;28;01mimport\u001b[39;00m \u001b[38;5;21;01mscipy\u001b[39;00m\u001b[38;5;21;01m.\u001b[39;00m\u001b[38;5;21;01m_lib\u001b[39;00m\u001b[38;5;21;01m.\u001b[39;00m\u001b[38;5;21;01marray_api_compat\u001b[39;00m\u001b[38;5;21;01m.\u001b[39;00m\u001b[38;5;21;01marray_api_compat\u001b[39;00m \u001b[38;5;28;01mas\u001b[39;00m \u001b[38;5;21;01marray_api_compat\u001b[39;00m\n\u001b[1;32m     17\u001b[0m \u001b[38;5;28;01mfrom\u001b[39;00m \u001b[38;5;21;01mscipy\u001b[39;00m\u001b[38;5;21;01m.\u001b[39;00m\u001b[38;5;21;01m_lib\u001b[39;00m\u001b[38;5;21;01m.\u001b[39;00m\u001b[38;5;21;01marray_api_compat\u001b[39;00m\u001b[38;5;21;01m.\u001b[39;00m\u001b[38;5;21;01marray_api_compat\u001b[39;00m \u001b[38;5;28;01mimport\u001b[39;00m size\n",
      "File \u001b[0;32m~/opt/anaconda3/lib/python3.9/site-packages/numpy/testing/__init__.py:11\u001b[0m, in \u001b[0;36m<module>\u001b[0;34m\u001b[0m\n\u001b[1;32m      8\u001b[0m \u001b[38;5;28;01mfrom\u001b[39;00m \u001b[38;5;21;01munittest\u001b[39;00m \u001b[38;5;28;01mimport\u001b[39;00m TestCase\n\u001b[1;32m     10\u001b[0m \u001b[38;5;28;01mfrom\u001b[39;00m \u001b[38;5;21;01m.\u001b[39;00m \u001b[38;5;28;01mimport\u001b[39;00m _private\n\u001b[0;32m---> 11\u001b[0m \u001b[38;5;28;01mfrom\u001b[39;00m \u001b[38;5;21;01m.\u001b[39;00m\u001b[38;5;21;01m_private\u001b[39;00m\u001b[38;5;21;01m.\u001b[39;00m\u001b[38;5;21;01mutils\u001b[39;00m \u001b[38;5;28;01mimport\u001b[39;00m \u001b[38;5;241m*\u001b[39m\n\u001b[1;32m     12\u001b[0m \u001b[38;5;28;01mfrom\u001b[39;00m \u001b[38;5;21;01m.\u001b[39;00m\u001b[38;5;21;01m_private\u001b[39;00m\u001b[38;5;21;01m.\u001b[39;00m\u001b[38;5;21;01mutils\u001b[39;00m \u001b[38;5;28;01mimport\u001b[39;00m (_assert_valid_refcount, _gen_alignment_data)\n\u001b[1;32m     13\u001b[0m \u001b[38;5;28;01mfrom\u001b[39;00m \u001b[38;5;21;01m.\u001b[39;00m\u001b[38;5;21;01m_private\u001b[39;00m \u001b[38;5;28;01mimport\u001b[39;00m extbuild, decorators \u001b[38;5;28;01mas\u001b[39;00m dec\n",
      "File \u001b[0;32m~/opt/anaconda3/lib/python3.9/site-packages/numpy/testing/_private/utils.py:57\u001b[0m, in \u001b[0;36m<module>\u001b[0;34m\u001b[0m\n\u001b[1;32m     55\u001b[0m IS_PYSTON \u001b[38;5;241m=\u001b[39m \u001b[38;5;28mhasattr\u001b[39m(sys, \u001b[38;5;124m\"\u001b[39m\u001b[38;5;124mpyston_version_info\u001b[39m\u001b[38;5;124m\"\u001b[39m)\n\u001b[1;32m     56\u001b[0m HAS_REFCOUNT \u001b[38;5;241m=\u001b[39m \u001b[38;5;28mgetattr\u001b[39m(sys, \u001b[38;5;124m'\u001b[39m\u001b[38;5;124mgetrefcount\u001b[39m\u001b[38;5;124m'\u001b[39m, \u001b[38;5;28;01mNone\u001b[39;00m) \u001b[38;5;129;01mis\u001b[39;00m \u001b[38;5;129;01mnot\u001b[39;00m \u001b[38;5;28;01mNone\u001b[39;00m \u001b[38;5;129;01mand\u001b[39;00m \u001b[38;5;129;01mnot\u001b[39;00m IS_PYSTON\n\u001b[0;32m---> 57\u001b[0m HAS_LAPACK64 \u001b[38;5;241m=\u001b[39m \u001b[43mnumpy\u001b[49m\u001b[38;5;241;43m.\u001b[39;49m\u001b[43mlinalg\u001b[49m\u001b[38;5;241;43m.\u001b[39;49m\u001b[43m_umath_linalg\u001b[49m\u001b[38;5;241;43m.\u001b[39;49m\u001b[43m_ilp64\u001b[49m\n\u001b[1;32m     59\u001b[0m _OLD_PROMOTION \u001b[38;5;241m=\u001b[39m \u001b[38;5;28;01mlambda\u001b[39;00m: np\u001b[38;5;241m.\u001b[39m_get_promotion_state() \u001b[38;5;241m==\u001b[39m \u001b[38;5;124m'\u001b[39m\u001b[38;5;124mlegacy\u001b[39m\u001b[38;5;124m'\u001b[39m\n\u001b[1;32m     61\u001b[0m IS_MUSL \u001b[38;5;241m=\u001b[39m \u001b[38;5;28;01mFalse\u001b[39;00m\n",
      "\u001b[0;31mAttributeError\u001b[0m: module 'numpy.linalg._umath_linalg' has no attribute '_ilp64'"
     ]
    }
   ],
   "source": [
    "\n",
    "from sklearn.model_selection import train_test_split\n",
    "digi_train, digi_test = train_test_split(digidf, test_size=0.2, random_state=42)\n",
    "digi_val, digi_test = train_test_split(digi_test, test_size=0.5, random_state=42)\n",
    "\n",
    "snapp_train, snapp_test = train_test_split(snappdf, test_size=0.2, random_state=42)\n",
    "snapp_val, snapp_test = train_test_split(snapp_test, test_size=0.5, random_state=42)"
   ]
  },
  {
   "cell_type": "markdown",
   "id": "93538b7c",
   "metadata": {
    "papermill": {
     "duration": 0.006521,
     "end_time": "2024-01-03T08:52:20.358285",
     "exception": false,
     "start_time": "2024-01-03T08:52:20.351764",
     "status": "completed"
    },
    "tags": []
   },
   "source": [
    "# P2: Preprocessing and Feature Extraction (20 points)"
   ]
  },
  {
   "cell_type": "markdown",
   "id": "02928f41",
   "metadata": {
    "papermill": {
     "duration": 0.006594,
     "end_time": "2024-01-03T08:52:20.371577",
     "exception": false,
     "start_time": "2024-01-03T08:52:20.364983",
     "status": "completed"
    },
    "tags": []
   },
   "source": [
    "The goal of this part is to make the Snappfood dataset ready for the neural network to be trained with.<br>\n",
    "Note: You can use many libraries including `NLTK`, `Spacy`, `Hazm`, `Parsivar`, `Stanza` etc."
   ]
  },
  {
   "cell_type": "markdown",
   "id": "c01963ce",
   "metadata": {
    "papermill": {
     "duration": 0.006483,
     "end_time": "2024-01-03T08:52:20.384959",
     "exception": false,
     "start_time": "2024-01-03T08:52:20.378476",
     "status": "completed"
    },
    "tags": []
   },
   "source": [
    "Remove the unnecessary characters of the dataset. <br>\n",
    "**(P2-1: 5 points)**"
   ]
  },
  {
   "cell_type": "code",
   "execution_count": null,
   "id": "e0641393",
   "metadata": {
    "papermill": {
     "duration": 0.006614,
     "end_time": "2024-01-03T08:52:20.398399",
     "exception": false,
     "start_time": "2024-01-03T08:52:20.391785",
     "status": "completed"
    },
    "tags": []
   },
   "outputs": [],
   "source": [
    "# list all characters in dataset\n",
    "cha"
   ]
  },
  {
   "cell_type": "markdown",
   "id": "49cdad7a",
   "metadata": {
    "papermill": {
     "duration": 0.006628,
     "end_time": "2024-01-03T08:52:20.412080",
     "exception": false,
     "start_time": "2024-01-03T08:52:20.405452",
     "status": "completed"
    },
    "tags": []
   },
   "source": [
    "Normalize the dataset. <br>\n",
    "Note: Check the result. For instance, if you do this correctly, you'll have a dataset containing just 1 type of space. **(P2-2: 5 points)**"
   ]
  },
  {
   "cell_type": "code",
   "execution_count": null,
   "id": "9ba1c400",
   "metadata": {
    "papermill": {
     "duration": 0.006567,
     "end_time": "2024-01-03T08:52:20.425749",
     "exception": false,
     "start_time": "2024-01-03T08:52:20.419182",
     "status": "completed"
    },
    "tags": []
   },
   "outputs": [],
   "source": []
  },
  {
   "cell_type": "markdown",
   "id": "586f43ab",
   "metadata": {
    "papermill": {
     "duration": 0.006891,
     "end_time": "2024-01-03T08:52:20.501442",
     "exception": false,
     "start_time": "2024-01-03T08:52:20.494551",
     "status": "completed"
    },
    "tags": []
   },
   "source": [
    "If you want to include other preprocessing steps, put all of your code here."
   ]
  },
  {
   "cell_type": "code",
   "execution_count": null,
   "id": "10222da3",
   "metadata": {
    "papermill": {
     "duration": 0.006663,
     "end_time": "2024-01-03T08:52:20.515042",
     "exception": false,
     "start_time": "2024-01-03T08:52:20.508379",
     "status": "completed"
    },
    "tags": []
   },
   "outputs": [],
   "source": []
  },
  {
   "cell_type": "markdown",
   "id": "0a8dc379",
   "metadata": {
    "papermill": {
     "duration": 0.006885,
     "end_time": "2024-01-03T08:52:20.528952",
     "exception": false,
     "start_time": "2024-01-03T08:52:20.522067",
     "status": "completed"
    },
    "tags": []
   },
   "source": [
    "Extract features from the Snappfood dataset\n",
    "<br> Note: You should use both of the following methods, and compare the results at the end.\n",
    "- Method 1 (Classic): Use `CountVectorizer` or `TF-IDF`.\n",
    "- Method 2 (Modern): Use `Word2Vec`, `FastText`, `GloVe`, `Doc2Vec` or train your own `Embedding` Layer. \n",
    "\n",
    "If you choose to train your own `Embedding`s, you'll just need to specify an ID for each word remaining in your dataset. **(P2-3: 10 points)**"
   ]
  },
  {
   "cell_type": "code",
   "execution_count": null,
   "id": "1f1f5c11",
   "metadata": {
    "papermill": {
     "duration": 0.006808,
     "end_time": "2024-01-03T08:52:20.542842",
     "exception": false,
     "start_time": "2024-01-03T08:52:20.536034",
     "status": "completed"
    },
    "tags": []
   },
   "outputs": [],
   "source": []
  },
  {
   "cell_type": "markdown",
   "id": "9b0835a9",
   "metadata": {
    "papermill": {
     "duration": 0.006809,
     "end_time": "2024-01-03T08:52:20.556618",
     "exception": false,
     "start_time": "2024-01-03T08:52:20.549809",
     "status": "completed"
    },
    "tags": []
   },
   "source": [
    "# P3: Training and Initial Evaluation (20 points)"
   ]
  },
  {
   "cell_type": "markdown",
   "id": "aa72c598",
   "metadata": {
    "papermill": {
     "duration": 0.006699,
     "end_time": "2024-01-03T08:52:20.570349",
     "exception": false,
     "start_time": "2024-01-03T08:52:20.563650",
     "status": "completed"
    },
    "tags": []
   },
   "source": [
    "Define an architecture for your neural network. **(P3-1: 5 points)**"
   ]
  },
  {
   "cell_type": "code",
   "execution_count": null,
   "id": "cdb76758",
   "metadata": {
    "papermill": {
     "duration": 0.006546,
     "end_time": "2024-01-03T08:52:20.583560",
     "exception": false,
     "start_time": "2024-01-03T08:52:20.577014",
     "status": "completed"
    },
    "tags": []
   },
   "outputs": [],
   "source": []
  },
  {
   "cell_type": "markdown",
   "id": "5a88d21c",
   "metadata": {
    "papermill": {
     "duration": 0.00659,
     "end_time": "2024-01-03T08:52:20.596770",
     "exception": false,
     "start_time": "2024-01-03T08:52:20.590180",
     "status": "completed"
    },
    "tags": []
   },
   "source": [
    "Train the network on the Snappfood dataset, while monitoring its performance on the validation set. **(P3-2: 5 points)**"
   ]
  },
  {
   "cell_type": "code",
   "execution_count": null,
   "id": "db855490",
   "metadata": {
    "papermill": {
     "duration": 0.006508,
     "end_time": "2024-01-03T08:52:20.610028",
     "exception": false,
     "start_time": "2024-01-03T08:52:20.603520",
     "status": "completed"
    },
    "tags": []
   },
   "outputs": [],
   "source": []
  },
  {
   "cell_type": "markdown",
   "id": "63715715",
   "metadata": {
    "papermill": {
     "duration": 0.006666,
     "end_time": "2024-01-03T08:52:20.623690",
     "exception": false,
     "start_time": "2024-01-03T08:52:20.617024",
     "status": "completed"
    },
    "tags": []
   },
   "source": [
    "Evaluate the performance of your network on the Snappfood testing set. **(P3-3: 5 points)**"
   ]
  },
  {
   "cell_type": "code",
   "execution_count": null,
   "id": "7c39fdc1",
   "metadata": {
    "papermill": {
     "duration": 0.007499,
     "end_time": "2024-01-03T08:52:20.639406",
     "exception": false,
     "start_time": "2024-01-03T08:52:20.631907",
     "status": "completed"
    },
    "tags": []
   },
   "outputs": [],
   "source": []
  },
  {
   "cell_type": "markdown",
   "id": "b8d73206",
   "metadata": {
    "papermill": {
     "duration": 0.00808,
     "end_time": "2024-01-03T08:52:20.654543",
     "exception": false,
     "start_time": "2024-01-03T08:52:20.646463",
     "status": "completed"
    },
    "tags": []
   },
   "source": [
    "Save the weights of the neural network and its architecture seperately in the notebook's output folder (`/kaggle/working/`). **(P3-4: 5 points)**"
   ]
  },
  {
   "cell_type": "code",
   "execution_count": null,
   "id": "a1f36412",
   "metadata": {
    "papermill": {
     "duration": 0.007215,
     "end_time": "2024-01-03T08:52:20.669287",
     "exception": false,
     "start_time": "2024-01-03T08:52:20.662072",
     "status": "completed"
    },
    "tags": []
   },
   "outputs": [],
   "source": []
  },
  {
   "cell_type": "markdown",
   "id": "c41538fe",
   "metadata": {
    "papermill": {
     "duration": 0.007253,
     "end_time": "2024-01-03T08:52:20.683934",
     "exception": false,
     "start_time": "2024-01-03T08:52:20.676681",
     "status": "completed"
    },
    "tags": []
   },
   "source": [
    "# P4: Fine-tuning and Evaluation (35 points)"
   ]
  },
  {
   "cell_type": "markdown",
   "id": "9b313608",
   "metadata": {
    "papermill": {
     "duration": 0.007194,
     "end_time": "2024-01-03T08:52:20.698488",
     "exception": false,
     "start_time": "2024-01-03T08:52:20.691294",
     "status": "completed"
    },
    "tags": []
   },
   "source": [
    "In this part, we will fine-tune the previously trained network on the comments extracted from Digikala."
   ]
  },
  {
   "cell_type": "markdown",
   "id": "c5cf4e63",
   "metadata": {
    "papermill": {
     "duration": 0.006907,
     "end_time": "2024-01-03T08:52:20.712564",
     "exception": false,
     "start_time": "2024-01-03T08:52:20.705657",
     "status": "completed"
    },
    "tags": []
   },
   "source": [
    "Load the neural network along with its weights **(P4-1: 5 points)**"
   ]
  },
  {
   "cell_type": "code",
   "execution_count": null,
   "id": "efc049d8",
   "metadata": {
    "papermill": {
     "duration": 0.007134,
     "end_time": "2024-01-03T08:52:20.726889",
     "exception": false,
     "start_time": "2024-01-03T08:52:20.719755",
     "status": "completed"
    },
    "tags": []
   },
   "outputs": [],
   "source": []
  },
  {
   "cell_type": "markdown",
   "id": "3ef8237a",
   "metadata": {
    "papermill": {
     "duration": 0.007245,
     "end_time": "2024-01-03T08:52:20.741295",
     "exception": false,
     "start_time": "2024-01-03T08:52:20.734050",
     "status": "completed"
    },
    "tags": []
   },
   "source": [
    "Change the architecture of the network (the last layer) to make it appropriate for classifying the sentiment of a comment in one of the previously mentioned three classes: positive, negative, or neutral. **(P4-2: 5 points)**"
   ]
  },
  {
   "cell_type": "code",
   "execution_count": null,
   "id": "9964375b",
   "metadata": {
    "papermill": {
     "duration": 0.008859,
     "end_time": "2024-01-03T08:52:20.757869",
     "exception": false,
     "start_time": "2024-01-03T08:52:20.749010",
     "status": "completed"
    },
    "tags": []
   },
   "outputs": [],
   "source": []
  },
  {
   "cell_type": "markdown",
   "id": "01bdb2d3",
   "metadata": {
    "papermill": {
     "duration": 0.007026,
     "end_time": "2024-01-03T08:52:20.772277",
     "exception": false,
     "start_time": "2024-01-03T08:52:20.765251",
     "status": "completed"
    },
    "tags": []
   },
   "source": [
    "Extract features from the Digikala dataset.<br>\n",
    "Note: Pay attention to the fact that your features are the same as the ones you extracted from the Snappfood dataset. You just need to use the same method for the new dataset. For instance, if you consider the `CountVectorizer` as your feature extractor, the set of the words for which you'll count the frequency will not change! **(P4-3: 15 points)**"
   ]
  },
  {
   "cell_type": "code",
   "execution_count": null,
   "id": "d5626378",
   "metadata": {
    "papermill": {
     "duration": 0.006909,
     "end_time": "2024-01-03T08:52:20.786628",
     "exception": false,
     "start_time": "2024-01-03T08:52:20.779719",
     "status": "completed"
    },
    "tags": []
   },
   "outputs": [],
   "source": []
  },
  {
   "cell_type": "markdown",
   "id": "e87dfbcb",
   "metadata": {
    "papermill": {
     "duration": 0.007043,
     "end_time": "2024-01-03T08:52:20.801060",
     "exception": false,
     "start_time": "2024-01-03T08:52:20.794017",
     "status": "completed"
    },
    "tags": []
   },
   "source": [
    "Fine-tune the network on the training set associated with the Digikala dataset, while monitoring its performance on the corresponding validation set.<br>\n",
    "Note: The process of fine-tuning should follow one of these methods:\n",
    "- Method 1: Fix the weights for all layers expect the last one.\n",
    "- Method 2: Use a really small learning rate for all layers except the last one.\n",
    "\n",
    "**(P4-4: 5 points)**"
   ]
  },
  {
   "cell_type": "code",
   "execution_count": null,
   "id": "732eff78",
   "metadata": {
    "papermill": {
     "duration": 0.006995,
     "end_time": "2024-01-03T08:52:20.815317",
     "exception": false,
     "start_time": "2024-01-03T08:52:20.808322",
     "status": "completed"
    },
    "tags": []
   },
   "outputs": [],
   "source": []
  },
  {
   "cell_type": "markdown",
   "id": "320436ae",
   "metadata": {
    "papermill": {
     "duration": 0.007129,
     "end_time": "2024-01-03T08:52:20.829789",
     "exception": false,
     "start_time": "2024-01-03T08:52:20.822660",
     "status": "completed"
    },
    "tags": []
   },
   "source": [
    "Evaluate the performance of the neural network on the testing set you have extracted from the Digikala dataset. **(P4-5: 5 points)**"
   ]
  },
  {
   "cell_type": "code",
   "execution_count": null,
   "id": "0241713d",
   "metadata": {
    "papermill": {
     "duration": 0.007267,
     "end_time": "2024-01-03T08:52:20.844159",
     "exception": false,
     "start_time": "2024-01-03T08:52:20.836892",
     "status": "completed"
    },
    "tags": []
   },
   "outputs": [],
   "source": []
  }
 ],
 "metadata": {
  "kaggle": {
   "accelerator": "none",
   "dataSources": [
    {
     "datasetId": 2311034,
     "sourceId": 3889482,
     "sourceType": "datasetVersion"
    },
    {
     "datasetId": 435023,
     "sourceId": 826102,
     "sourceType": "datasetVersion"
    }
   ],
   "dockerImageVersionId": 30626,
   "isGpuEnabled": false,
   "isInternetEnabled": true,
   "language": "python",
   "sourceType": "notebook"
  },
  "kernelspec": {
   "display_name": "Python 3",
   "language": "python",
   "name": "python3"
  },
  "language_info": {
   "codemirror_mode": {
    "name": "ipython",
    "version": 3
   },
   "file_extension": ".py",
   "mimetype": "text/x-python",
   "name": "python",
   "nbconvert_exporter": "python",
   "pygments_lexer": "ipython3",
   "version": "3.9.12"
  },
  "papermill": {
   "default_parameters": {},
   "duration": 3.897554,
   "end_time": "2024-01-03T08:52:21.274938",
   "environment_variables": {},
   "exception": null,
   "input_path": "__notebook__.ipynb",
   "output_path": "__notebook__.ipynb",
   "parameters": {},
   "start_time": "2024-01-03T08:52:17.377384",
   "version": "2.4.0"
  }
 },
 "nbformat": 4,
 "nbformat_minor": 5
}
