{
 "cells": [
  {
   "cell_type": "markdown",
   "id": "66b8b8e6",
   "metadata": {
    "papermill": {
     "duration": 0.007915,
     "end_time": "2024-01-03T08:52:20.117734",
     "exception": false,
     "start_time": "2024-01-03T08:52:20.109819",
     "status": "completed"
    },
    "tags": []
   },
   "source": [
    "# P0: Intro"
   ]
  },
  {
   "cell_type": "markdown",
   "id": "5fb3c21a",
   "metadata": {
    "papermill": {
     "duration": 0.007075,
     "end_time": "2024-01-03T08:52:20.132129",
     "exception": false,
     "start_time": "2024-01-03T08:52:20.125054",
     "status": "completed"
    },
    "tags": []
   },
   "source": [
    "<center><b>Machine Learning Project</b></center>\n",
    "<br><center><b>Sharif University of Technology - Fall 2023</b></center>"
   ]
  },
  {
   "cell_type": "markdown",
   "id": "fae03455",
   "metadata": {
    "papermill": {
     "duration": 0.007392,
     "end_time": "2024-01-03T08:52:20.147406",
     "exception": false,
     "start_time": "2024-01-03T08:52:20.140014",
     "status": "completed"
    },
    "tags": []
   },
   "source": [
    "<div style=\"text-align:justify\">Hopefully, the course has been insightful for you till now. This notebook serves as a template for the project which involves training a sentiment analyzer neural network using the comments of a Persian website and fine-tuning it using the comments of another.<br><br>\n",
    "The first website is Snappfood which is used by the people in Iran to order different kinds of food. The latter is Digikala, an online store for Iranians where people buy many things including smartphones, groceries, cars, and whatever you consider legal. Both websites provide users with ways to express their opinions about the products.<br><br>\n",
    "A domain shift may be revealed to some degree when switching from Snappfood comments to the ones extracted from Digikala. This will be one of the challenges you will be faced with. So, beware of it!</div>"
   ]
  },
  {
   "cell_type": "markdown",
   "id": "ceb26f28",
   "metadata": {
    "papermill": {
     "duration": 0.007436,
     "end_time": "2024-01-03T08:52:20.162309",
     "exception": false,
     "start_time": "2024-01-03T08:52:20.154873",
     "status": "completed"
    },
    "tags": []
   },
   "source": [
    "# P1: Exploring the Datasets (25 points)"
   ]
  },
  {
   "cell_type": "markdown",
   "id": "23bb7bbf",
   "metadata": {
    "papermill": {
     "duration": 0.006826,
     "end_time": "2024-01-03T08:52:20.176330",
     "exception": false,
     "start_time": "2024-01-03T08:52:20.169504",
     "status": "completed"
    },
    "tags": []
   },
   "source": [
    "Both of the datasets are added to the notebook. In this part, we want to explore their contents. "
   ]
  },
  {
   "cell_type": "markdown",
   "id": "2cb92f67",
   "metadata": {
    "papermill": {
     "duration": 0.006935,
     "end_time": "2024-01-03T08:52:20.190514",
     "exception": false,
     "start_time": "2024-01-03T08:52:20.183579",
     "status": "completed"
    },
    "tags": []
   },
   "source": [
    "Load both of the datasets "
   ]
  },
  {
   "cell_type": "code",
   "execution_count": null,
   "id": "3b24d155",
   "metadata": {
    "papermill": {
     "duration": 0.006945,
     "end_time": "2024-01-03T08:52:20.204791",
     "exception": false,
     "start_time": "2024-01-03T08:52:20.197846",
     "status": "completed"
    },
    "tags": []
   },
   "outputs": [],
   "source": []
  },
  {
   "cell_type": "markdown",
   "id": "a1d2836d",
   "metadata": {
    "papermill": {
     "duration": 0.007804,
     "end_time": "2024-01-03T08:52:20.220114",
     "exception": false,
     "start_time": "2024-01-03T08:52:20.212310",
     "status": "completed"
    },
    "tags": []
   },
   "source": [
    "Count the number of comments each dataset contains **(P1-1: 5 points)**"
   ]
  },
  {
   "cell_type": "code",
   "execution_count": null,
   "id": "eb86aeef",
   "metadata": {
    "papermill": {
     "duration": 0.006489,
     "end_time": "2024-01-03T08:52:20.233689",
     "exception": false,
     "start_time": "2024-01-03T08:52:20.227200",
     "status": "completed"
    },
    "tags": []
   },
   "outputs": [],
   "source": []
  },
  {
   "cell_type": "markdown",
   "id": "6bde9531",
   "metadata": {
    "papermill": {
     "duration": 0.006691,
     "end_time": "2024-01-03T08:52:20.247325",
     "exception": false,
     "start_time": "2024-01-03T08:52:20.240634",
     "status": "completed"
    },
    "tags": []
   },
   "source": [
    "Represent the distribution of comments in the Snappfood dataset in terms of being negative or positive **(P1-2: 5 points)**"
   ]
  },
  {
   "cell_type": "code",
   "execution_count": null,
   "id": "01eda683",
   "metadata": {
    "papermill": {
     "duration": 0.006644,
     "end_time": "2024-01-03T08:52:20.261211",
     "exception": false,
     "start_time": "2024-01-03T08:52:20.254567",
     "status": "completed"
    },
    "tags": []
   },
   "outputs": [],
   "source": []
  },
  {
   "cell_type": "markdown",
   "id": "abc9c734",
   "metadata": {
    "papermill": {
     "duration": 0.006487,
     "end_time": "2024-01-03T08:52:20.274752",
     "exception": false,
     "start_time": "2024-01-03T08:52:20.268265",
     "status": "completed"
    },
    "tags": []
   },
   "source": [
    "Plot the logarithm of the frequency of words as a function of the logarithm of their rank to demonstrate the Zipf's law. <br>\n",
    "Note: Don't panic! The Zipf's law can be found here: https://nlp.stanford.edu/IR-book/html/htmledition/zipfs-law-modeling-the-distribution-of-terms-1.html and can be easily understood. **(P1-3: 5 points)**"
   ]
  },
  {
   "cell_type": "code",
   "execution_count": null,
   "id": "b2bc03e7",
   "metadata": {
    "papermill": {
     "duration": 0.006515,
     "end_time": "2024-01-03T08:52:20.288343",
     "exception": false,
     "start_time": "2024-01-03T08:52:20.281828",
     "status": "completed"
    },
    "tags": []
   },
   "outputs": [],
   "source": []
  },
  {
   "cell_type": "markdown",
   "id": "0beddd5e",
   "metadata": {
    "papermill": {
     "duration": 0.006859,
     "end_time": "2024-01-03T08:52:20.303552",
     "exception": false,
     "start_time": "2024-01-03T08:52:20.296693",
     "status": "completed"
    },
    "tags": []
   },
   "source": [
    "Add a new column to the Digikala dataset indicating whether the comment was positive, negative, or neutral. This will be needed later for classification. <br>\n",
    "Note: This can be done in many ways. You should the appropriate method. **(P1-4: 5 points)**"
   ]
  },
  {
   "cell_type": "code",
   "execution_count": null,
   "id": "658d4673",
   "metadata": {
    "papermill": {
     "duration": 0.006751,
     "end_time": "2024-01-03T08:52:20.317491",
     "exception": false,
     "start_time": "2024-01-03T08:52:20.310740",
     "status": "completed"
    },
    "tags": []
   },
   "outputs": [],
   "source": []
  },
  {
   "cell_type": "markdown",
   "id": "44492b9e",
   "metadata": {
    "papermill": {
     "duration": 0.006564,
     "end_time": "2024-01-03T08:52:20.331225",
     "exception": false,
     "start_time": "2024-01-03T08:52:20.324661",
     "status": "completed"
    },
    "tags": []
   },
   "source": [
    "Split each dataset into training, testing, and validation sets. **(P1-5: 5 points)**"
   ]
  },
  {
   "cell_type": "code",
   "execution_count": null,
   "id": "efea645a",
   "metadata": {
    "papermill": {
     "duration": 0.006691,
     "end_time": "2024-01-03T08:52:20.344876",
     "exception": false,
     "start_time": "2024-01-03T08:52:20.338185",
     "status": "completed"
    },
    "tags": []
   },
   "outputs": [],
   "source": []
  },
  {
   "cell_type": "markdown",
   "id": "93538b7c",
   "metadata": {
    "papermill": {
     "duration": 0.006521,
     "end_time": "2024-01-03T08:52:20.358285",
     "exception": false,
     "start_time": "2024-01-03T08:52:20.351764",
     "status": "completed"
    },
    "tags": []
   },
   "source": [
    "# P2: Preprocessing and Feature Extraction (20 points)"
   ]
  },
  {
   "cell_type": "markdown",
   "id": "02928f41",
   "metadata": {
    "papermill": {
     "duration": 0.006594,
     "end_time": "2024-01-03T08:52:20.371577",
     "exception": false,
     "start_time": "2024-01-03T08:52:20.364983",
     "status": "completed"
    },
    "tags": []
   },
   "source": [
    "The goal of this part is to make the Snappfood dataset ready for the neural network to be trained with.<br>\n",
    "Note: You can use many libraries including `NLTK`, `Spacy`, `Hazm`, `Parsivar`, `Stanza` etc."
   ]
  },
  {
   "cell_type": "markdown",
   "id": "c01963ce",
   "metadata": {
    "papermill": {
     "duration": 0.006483,
     "end_time": "2024-01-03T08:52:20.384959",
     "exception": false,
     "start_time": "2024-01-03T08:52:20.378476",
     "status": "completed"
    },
    "tags": []
   },
   "source": [
    "Remove the unnecessary characters of the dataset. <br>\n",
    "**(P2-1: 5 points)**"
   ]
  },
  {
   "cell_type": "code",
   "execution_count": null,
   "id": "e0641393",
   "metadata": {
    "papermill": {
     "duration": 0.006614,
     "end_time": "2024-01-03T08:52:20.398399",
     "exception": false,
     "start_time": "2024-01-03T08:52:20.391785",
     "status": "completed"
    },
    "tags": []
   },
   "outputs": [],
   "source": []
  },
  {
   "cell_type": "markdown",
   "id": "49cdad7a",
   "metadata": {
    "papermill": {
     "duration": 0.006628,
     "end_time": "2024-01-03T08:52:20.412080",
     "exception": false,
     "start_time": "2024-01-03T08:52:20.405452",
     "status": "completed"
    },
    "tags": []
   },
   "source": [
    "Normalize the dataset. <br>\n",
    "Note: Check the result. For instance, if you do this correctly, you'll have a dataset containing just 1 type of space. **(P2-2: 5 points)**"
   ]
  },
  {
   "cell_type": "code",
   "execution_count": null,
   "id": "9ba1c400",
   "metadata": {
    "papermill": {
     "duration": 0.006567,
     "end_time": "2024-01-03T08:52:20.425749",
     "exception": false,
     "start_time": "2024-01-03T08:52:20.419182",
     "status": "completed"
    },
    "tags": []
   },
   "outputs": [],
   "source": []
  },
  {
   "cell_type": "markdown",
   "id": "586f43ab",
   "metadata": {
    "papermill": {
     "duration": 0.006891,
     "end_time": "2024-01-03T08:52:20.501442",
     "exception": false,
     "start_time": "2024-01-03T08:52:20.494551",
     "status": "completed"
    },
    "tags": []
   },
   "source": [
    "If you want to include other preprocessing steps, put all of your code here."
   ]
  },
  {
   "cell_type": "code",
   "execution_count": null,
   "id": "10222da3",
   "metadata": {
    "papermill": {
     "duration": 0.006663,
     "end_time": "2024-01-03T08:52:20.515042",
     "exception": false,
     "start_time": "2024-01-03T08:52:20.508379",
     "status": "completed"
    },
    "tags": []
   },
   "outputs": [],
   "source": []
  },
  {
   "cell_type": "markdown",
   "id": "0a8dc379",
   "metadata": {
    "papermill": {
     "duration": 0.006885,
     "end_time": "2024-01-03T08:52:20.528952",
     "exception": false,
     "start_time": "2024-01-03T08:52:20.522067",
     "status": "completed"
    },
    "tags": []
   },
   "source": [
    "Extract features from the Snappfood dataset\n",
    "<br> Note: You should use both of the following methods, and compare the results at the end.\n",
    "- Method 1 (Classic): Use `CountVectorizer` or `TF-IDF`.\n",
    "- Method 2 (Modern): Use `Word2Vec`, `FastText`, `GloVe`, `Doc2Vec` or train your own `Embedding` Layer. \n",
    "\n",
    "If you choose to train your own `Embedding`s, you'll just need to specify an ID for each word remaining in your dataset. **(P2-3: 10 points)**"
   ]
  },
  {
   "cell_type": "code",
   "execution_count": null,
   "id": "1f1f5c11",
   "metadata": {
    "papermill": {
     "duration": 0.006808,
     "end_time": "2024-01-03T08:52:20.542842",
     "exception": false,
     "start_time": "2024-01-03T08:52:20.536034",
     "status": "completed"
    },
    "tags": []
   },
   "outputs": [],
   "source": []
  },
  {
   "cell_type": "markdown",
   "id": "9b0835a9",
   "metadata": {
    "papermill": {
     "duration": 0.006809,
     "end_time": "2024-01-03T08:52:20.556618",
     "exception": false,
     "start_time": "2024-01-03T08:52:20.549809",
     "status": "completed"
    },
    "tags": []
   },
   "source": [
    "# P3: Training and Initial Evaluation (20 points)"
   ]
  },
  {
   "cell_type": "markdown",
   "id": "aa72c598",
   "metadata": {
    "papermill": {
     "duration": 0.006699,
     "end_time": "2024-01-03T08:52:20.570349",
     "exception": false,
     "start_time": "2024-01-03T08:52:20.563650",
     "status": "completed"
    },
    "tags": []
   },
   "source": [
    "Define an architecture for your neural network. **(P3-1: 5 points)**"
   ]
  },
  {
   "cell_type": "code",
   "execution_count": null,
   "id": "cdb76758",
   "metadata": {
    "papermill": {
     "duration": 0.006546,
     "end_time": "2024-01-03T08:52:20.583560",
     "exception": false,
     "start_time": "2024-01-03T08:52:20.577014",
     "status": "completed"
    },
    "tags": []
   },
   "outputs": [],
   "source": []
  },
  {
   "cell_type": "markdown",
   "id": "5a88d21c",
   "metadata": {
    "papermill": {
     "duration": 0.00659,
     "end_time": "2024-01-03T08:52:20.596770",
     "exception": false,
     "start_time": "2024-01-03T08:52:20.590180",
     "status": "completed"
    },
    "tags": []
   },
   "source": [
    "Train the network on the Snappfood dataset, while monitoring its performance on the validation set. **(P3-2: 5 points)**"
   ]
  },
  {
   "cell_type": "code",
   "execution_count": null,
   "id": "db855490",
   "metadata": {
    "papermill": {
     "duration": 0.006508,
     "end_time": "2024-01-03T08:52:20.610028",
     "exception": false,
     "start_time": "2024-01-03T08:52:20.603520",
     "status": "completed"
    },
    "tags": []
   },
   "outputs": [],
   "source": []
  },
  {
   "cell_type": "markdown",
   "id": "63715715",
   "metadata": {
    "papermill": {
     "duration": 0.006666,
     "end_time": "2024-01-03T08:52:20.623690",
     "exception": false,
     "start_time": "2024-01-03T08:52:20.617024",
     "status": "completed"
    },
    "tags": []
   },
   "source": [
    "Evaluate the performance of your network on the Snappfood testing set. **(P3-3: 5 points)**"
   ]
  },
  {
   "cell_type": "code",
   "execution_count": null,
   "id": "7c39fdc1",
   "metadata": {
    "papermill": {
     "duration": 0.007499,
     "end_time": "2024-01-03T08:52:20.639406",
     "exception": false,
     "start_time": "2024-01-03T08:52:20.631907",
     "status": "completed"
    },
    "tags": []
   },
   "outputs": [],
   "source": []
  },
  {
   "cell_type": "markdown",
   "id": "b8d73206",
   "metadata": {
    "papermill": {
     "duration": 0.00808,
     "end_time": "2024-01-03T08:52:20.654543",
     "exception": false,
     "start_time": "2024-01-03T08:52:20.646463",
     "status": "completed"
    },
    "tags": []
   },
   "source": [
    "Save the weights of the neural network and its architecture seperately in the notebook's output folder (`/kaggle/working/`). **(P3-4: 5 points)**"
   ]
  },
  {
   "cell_type": "code",
   "execution_count": null,
   "id": "a1f36412",
   "metadata": {
    "papermill": {
     "duration": 0.007215,
     "end_time": "2024-01-03T08:52:20.669287",
     "exception": false,
     "start_time": "2024-01-03T08:52:20.662072",
     "status": "completed"
    },
    "tags": []
   },
   "outputs": [],
   "source": []
  },
  {
   "cell_type": "markdown",
   "id": "c41538fe",
   "metadata": {
    "papermill": {
     "duration": 0.007253,
     "end_time": "2024-01-03T08:52:20.683934",
     "exception": false,
     "start_time": "2024-01-03T08:52:20.676681",
     "status": "completed"
    },
    "tags": []
   },
   "source": [
    "# P4: Fine-tuning and Evaluation (35 points)"
   ]
  },
  {
   "cell_type": "markdown",
   "id": "9b313608",
   "metadata": {
    "papermill": {
     "duration": 0.007194,
     "end_time": "2024-01-03T08:52:20.698488",
     "exception": false,
     "start_time": "2024-01-03T08:52:20.691294",
     "status": "completed"
    },
    "tags": []
   },
   "source": [
    "In this part, we will fine-tune the previously trained network on the comments extracted from Digikala."
   ]
  },
  {
   "cell_type": "markdown",
   "id": "c5cf4e63",
   "metadata": {
    "papermill": {
     "duration": 0.006907,
     "end_time": "2024-01-03T08:52:20.712564",
     "exception": false,
     "start_time": "2024-01-03T08:52:20.705657",
     "status": "completed"
    },
    "tags": []
   },
   "source": [
    "Load the neural network along with its weights **(P4-1: 5 points)**"
   ]
  },
  {
   "cell_type": "code",
   "execution_count": null,
   "id": "efc049d8",
   "metadata": {
    "papermill": {
     "duration": 0.007134,
     "end_time": "2024-01-03T08:52:20.726889",
     "exception": false,
     "start_time": "2024-01-03T08:52:20.719755",
     "status": "completed"
    },
    "tags": []
   },
   "outputs": [],
   "source": []
  },
  {
   "cell_type": "markdown",
   "id": "3ef8237a",
   "metadata": {
    "papermill": {
     "duration": 0.007245,
     "end_time": "2024-01-03T08:52:20.741295",
     "exception": false,
     "start_time": "2024-01-03T08:52:20.734050",
     "status": "completed"
    },
    "tags": []
   },
   "source": [
    "Change the architecture of the network (the last layer) to make it appropriate for classifying the sentiment of a comment in one of the previously mentioned three classes: positive, negative, or neutral. **(P4-2: 5 points)**"
   ]
  },
  {
   "cell_type": "code",
   "execution_count": null,
   "id": "9964375b",
   "metadata": {
    "papermill": {
     "duration": 0.008859,
     "end_time": "2024-01-03T08:52:20.757869",
     "exception": false,
     "start_time": "2024-01-03T08:52:20.749010",
     "status": "completed"
    },
    "tags": []
   },
   "outputs": [],
   "source": []
  },
  {
   "cell_type": "markdown",
   "id": "01bdb2d3",
   "metadata": {
    "papermill": {
     "duration": 0.007026,
     "end_time": "2024-01-03T08:52:20.772277",
     "exception": false,
     "start_time": "2024-01-03T08:52:20.765251",
     "status": "completed"
    },
    "tags": []
   },
   "source": [
    "Extract features from the Digikala dataset.<br>\n",
    "Note: Pay attention to the fact that your features are the same as the ones you extracted from the Snappfood dataset. You just need to use the same method for the new dataset. For instance, if you consider the `CountVectorizer` as your feature extractor, the set of the words for which you'll count the frequency will not change! **(P4-3: 15 points)**"
   ]
  },
  {
   "cell_type": "code",
   "execution_count": null,
   "id": "d5626378",
   "metadata": {
    "papermill": {
     "duration": 0.006909,
     "end_time": "2024-01-03T08:52:20.786628",
     "exception": false,
     "start_time": "2024-01-03T08:52:20.779719",
     "status": "completed"
    },
    "tags": []
   },
   "outputs": [],
   "source": []
  },
  {
   "cell_type": "markdown",
   "id": "e87dfbcb",
   "metadata": {
    "papermill": {
     "duration": 0.007043,
     "end_time": "2024-01-03T08:52:20.801060",
     "exception": false,
     "start_time": "2024-01-03T08:52:20.794017",
     "status": "completed"
    },
    "tags": []
   },
   "source": [
    "Fine-tune the network on the training set associated with the Digikala dataset, while monitoring its performance on the corresponding validation set.<br>\n",
    "Note: The process of fine-tuning should follow one of these methods:\n",
    "- Method 1: Fix the weights for all layers expect the last one.\n",
    "- Method 2: Use a really small learning rate for all layers except the last one.\n",
    "\n",
    "**(P4-4: 5 points)**"
   ]
  },
  {
   "cell_type": "code",
   "execution_count": null,
   "id": "732eff78",
   "metadata": {
    "papermill": {
     "duration": 0.006995,
     "end_time": "2024-01-03T08:52:20.815317",
     "exception": false,
     "start_time": "2024-01-03T08:52:20.808322",
     "status": "completed"
    },
    "tags": []
   },
   "outputs": [],
   "source": []
  },
  {
   "cell_type": "markdown",
   "id": "320436ae",
   "metadata": {
    "papermill": {
     "duration": 0.007129,
     "end_time": "2024-01-03T08:52:20.829789",
     "exception": false,
     "start_time": "2024-01-03T08:52:20.822660",
     "status": "completed"
    },
    "tags": []
   },
   "source": [
    "Evaluate the performance of the neural network on the testing set you have extracted from the Digikala dataset. **(P4-5: 5 points)**"
   ]
  },
  {
   "cell_type": "code",
   "execution_count": null,
   "id": "0241713d",
   "metadata": {
    "papermill": {
     "duration": 0.007267,
     "end_time": "2024-01-03T08:52:20.844159",
     "exception": false,
     "start_time": "2024-01-03T08:52:20.836892",
     "status": "completed"
    },
    "tags": []
   },
   "outputs": [],
   "source": []
  }
 ],
 "metadata": {
  "kaggle": {
   "accelerator": "none",
   "dataSources": [
    {
     "datasetId": 2311034,
     "sourceId": 3889482,
     "sourceType": "datasetVersion"
    },
    {
     "datasetId": 435023,
     "sourceId": 826102,
     "sourceType": "datasetVersion"
    }
   ],
   "dockerImageVersionId": 30626,
   "isGpuEnabled": false,
   "isInternetEnabled": true,
   "language": "python",
   "sourceType": "notebook"
  },
  "kernelspec": {
   "display_name": "Python 3",
   "language": "python",
   "name": "python3"
  },
  "language_info": {
   "codemirror_mode": {
    "name": "ipython",
    "version": 3
   },
   "file_extension": ".py",
   "mimetype": "text/x-python",
   "name": "python",
   "nbconvert_exporter": "python",
   "pygments_lexer": "ipython3",
   "version": "3.10.12"
  },
  "papermill": {
   "default_parameters": {},
   "duration": 3.897554,
   "end_time": "2024-01-03T08:52:21.274938",
   "environment_variables": {},
   "exception": null,
   "input_path": "__notebook__.ipynb",
   "output_path": "__notebook__.ipynb",
   "parameters": {},
   "start_time": "2024-01-03T08:52:17.377384",
   "version": "2.4.0"
  }
 },
 "nbformat": 4,
 "nbformat_minor": 5
}
