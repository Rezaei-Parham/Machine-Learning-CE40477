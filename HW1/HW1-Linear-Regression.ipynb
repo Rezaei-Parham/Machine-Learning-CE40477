{
 "cells": [
  {
   "cell_type": "markdown",
   "id": "7b31d0c3",
   "metadata": {
    "id": "b07eb33c",
    "papermill": {
     "duration": 0.013388,
     "end_time": "2023-11-16T21:02:03.487674",
     "exception": false,
     "start_time": "2023-11-16T21:02:03.474286",
     "status": "completed"
    },
    "tags": []
   },
   "source": [
    "# Practical Homework 1 - Linear Regression"
   ]
  },
  {
   "cell_type": "markdown",
   "id": "4a4fc30e",
   "metadata": {
    "papermill": {
     "duration": 0.01375,
     "end_time": "2023-11-16T21:02:03.514586",
     "exception": false,
     "start_time": "2023-11-16T21:02:03.500836",
     "status": "completed"
    },
    "tags": []
   },
   "source": [
    "Student Number: 400108547"
   ]
  },
  {
   "cell_type": "markdown",
   "id": "451d21e7",
   "metadata": {
    "papermill": {
     "duration": 0.012619,
     "end_time": "2023-11-16T21:02:03.540235",
     "exception": false,
     "start_time": "2023-11-16T21:02:03.527616",
     "status": "completed"
    },
    "tags": []
   },
   "source": [
    "Student Name: Parham Rezaei"
   ]
  },
  {
   "cell_type": "markdown",
   "id": "611455f5",
   "metadata": {
    "papermill": {
     "duration": 0.012513,
     "end_time": "2023-11-16T21:02:03.565638",
     "exception": false,
     "start_time": "2023-11-16T21:02:03.553125",
     "status": "completed"
    },
    "tags": []
   },
   "source": [
    "# Phase 0: Intro"
   ]
  },
  {
   "cell_type": "markdown",
   "id": "788043b2",
   "metadata": {
    "papermill": {
     "duration": 0.012688,
     "end_time": "2023-11-16T21:02:03.591120",
     "exception": false,
     "start_time": "2023-11-16T21:02:03.578432",
     "status": "completed"
    },
    "tags": []
   },
   "source": [
    "For this assignment, you'll be given a dataset containing some features of a group of people. Given those features, you will try to predict how much they tend to spend on the medical services they receive."
   ]
  },
  {
   "cell_type": "code",
   "execution_count": 1,
   "id": "c5ffff00",
   "metadata": {
    "execution": {
     "iopub.execute_input": "2023-11-16T21:02:03.619653Z",
     "iopub.status.busy": "2023-11-16T21:02:03.619025Z",
     "iopub.status.idle": "2023-11-16T21:02:06.292390Z",
     "shell.execute_reply": "2023-11-16T21:02:06.291290Z"
    },
    "id": "_FZJrsgNDeBt",
    "papermill": {
     "duration": 2.690587,
     "end_time": "2023-11-16T21:02:06.294908",
     "exception": false,
     "start_time": "2023-11-16T21:02:03.604321",
     "status": "completed"
    },
    "tags": []
   },
   "outputs": [
    {
     "name": "stdout",
     "output_type": "stream",
     "text": [
      "--2023-11-16 21:02:04--  https://www.dropbox.com/scl/fi/sy3nij8fkha309jnfi7c4/dataset.csv?rlkey=cjy9gof3hyqx1wo9ali1pusbv&dl=1\r\n",
      "Resolving www.dropbox.com (www.dropbox.com)... 162.125.85.18, 2620:100:6035:18::a27d:5512\r\n",
      "Connecting to www.dropbox.com (www.dropbox.com)|162.125.85.18|:443... connected.\r\n",
      "HTTP request sent, awaiting response... 302 Found\r\n",
      "Location: https://ucdb29a710e928ff16433dc0bf7a.dl.dropboxusercontent.com/cd/0/inline/CHoWwgVHR8P16b6VUsPGrdWw3VW_nUXgu1MfNHB8EudW6YUFFfUtYRzPOovbnuYTRucNwDIomafL_XZxHzT1Jp89jkhthgVZpTJRb-x4iBX0MuoRi-iIHV7pTRyHPHqSzaOsl_PQMLhnrSCU3b17STzw/file?dl=1# [following]\r\n",
      "--2023-11-16 21:02:05--  https://ucdb29a710e928ff16433dc0bf7a.dl.dropboxusercontent.com/cd/0/inline/CHoWwgVHR8P16b6VUsPGrdWw3VW_nUXgu1MfNHB8EudW6YUFFfUtYRzPOovbnuYTRucNwDIomafL_XZxHzT1Jp89jkhthgVZpTJRb-x4iBX0MuoRi-iIHV7pTRyHPHqSzaOsl_PQMLhnrSCU3b17STzw/file?dl=1\r\n",
      "Resolving ucdb29a710e928ff16433dc0bf7a.dl.dropboxusercontent.com (ucdb29a710e928ff16433dc0bf7a.dl.dropboxusercontent.com)... 162.125.85.15, 2620:100:6035:15::a27d:550f\r\n",
      "Connecting to ucdb29a710e928ff16433dc0bf7a.dl.dropboxusercontent.com (ucdb29a710e928ff16433dc0bf7a.dl.dropboxusercontent.com)|162.125.85.15|:443... connected.\r\n",
      "HTTP request sent, awaiting response... 200 OK\r\n",
      "Length: 43467 (42K) [application/binary]\r\n",
      "Saving to: ‘/kaggle/working/dataset.csv’\r\n",
      "\r\n",
      "/kaggle/working/dat 100%[===================>]  42.45K  --.-KB/s    in 0.004s  \r\n",
      "\r\n",
      "2023-11-16 21:02:06 (11.8 MB/s) - ‘/kaggle/working/dataset.csv’ saved [43467/43467]\r\n",
      "\r\n"
     ]
    }
   ],
   "source": [
    "# run this cell to download the dataset\n",
    "!wget -O /kaggle/working/dataset.csv \"https://www.dropbox.com/scl/fi/sy3nij8fkha309jnfi7c4/dataset.csv?rlkey=cjy9gof3hyqx1wo9ali1pusbv&dl=1\""
   ]
  },
  {
   "cell_type": "code",
   "execution_count": 2,
   "id": "6e781d17",
   "metadata": {
    "execution": {
     "iopub.execute_input": "2023-11-16T21:02:06.324003Z",
     "iopub.status.busy": "2023-11-16T21:02:06.323315Z",
     "iopub.status.idle": "2023-11-16T21:02:08.306955Z",
     "shell.execute_reply": "2023-11-16T21:02:08.305968Z"
    },
    "id": "5a2067b0",
    "papermill": {
     "duration": 2.000959,
     "end_time": "2023-11-16T21:02:08.309439",
     "exception": false,
     "start_time": "2023-11-16T21:02:06.308480",
     "status": "completed"
    },
    "tags": []
   },
   "outputs": [],
   "source": [
    "# libraries that you allowed to use\n",
    "import os\n",
    "import pandas\n",
    "import sklearn\n",
    "import numpy as np\n",
    "import pandas as pd\n",
    "import seaborn as sns\n",
    "from joblib import dump, load\n",
    "from matplotlib import pyplot as plt"
   ]
  },
  {
   "cell_type": "markdown",
   "id": "81dcf8ec",
   "metadata": {
    "id": "20fe7a06",
    "papermill": {
     "duration": 0.013027,
     "end_time": "2023-11-16T21:02:08.335957",
     "exception": false,
     "start_time": "2023-11-16T21:02:08.322930",
     "status": "completed"
    },
    "tags": []
   },
   "source": [
    "# Phase 1: Explore"
   ]
  },
  {
   "cell_type": "markdown",
   "id": "3a8337db",
   "metadata": {
    "id": "IpZrSRbjiSut",
    "papermill": {
     "duration": 0.012814,
     "end_time": "2023-11-16T21:02:08.361991",
     "exception": false,
     "start_time": "2023-11-16T21:02:08.349177",
     "status": "completed"
    },
    "tags": []
   },
   "source": [
    "## Sec 1: Load and Explore **(P1-Sec1: 15 points)**"
   ]
  },
  {
   "cell_type": "markdown",
   "id": "0994b1ca",
   "metadata": {
    "id": "c9a841e4",
    "papermill": {
     "duration": 0.012997,
     "end_time": "2023-11-16T21:02:08.388196",
     "exception": false,
     "start_time": "2023-11-16T21:02:08.375199",
     "status": "completed"
    },
    "tags": []
   },
   "source": [
    "Load the dataset (as a dataframe) using pandas and display the top 5 rows of the dataframe."
   ]
  },
  {
   "cell_type": "code",
   "execution_count": 3,
   "id": "d756329f",
   "metadata": {
    "execution": {
     "iopub.execute_input": "2023-11-16T21:02:08.417074Z",
     "iopub.status.busy": "2023-11-16T21:02:08.416489Z",
     "iopub.status.idle": "2023-11-16T21:02:08.431389Z",
     "shell.execute_reply": "2023-11-16T21:02:08.430188Z"
    },
    "papermill": {
     "duration": 0.032098,
     "end_time": "2023-11-16T21:02:08.433791",
     "exception": false,
     "start_time": "2023-11-16T21:02:08.401693",
     "status": "completed"
    },
    "tags": []
   },
   "outputs": [],
   "source": [
    "data = pd.read_csv(\"dataset.csv\")"
   ]
  },
  {
   "cell_type": "markdown",
   "id": "3be21603",
   "metadata": {
    "id": "a55a134e",
    "papermill": {
     "duration": 0.076352,
     "end_time": "2023-11-16T21:02:08.523489",
     "exception": false,
     "start_time": "2023-11-16T21:02:08.447137",
     "status": "completed"
    },
    "tags": []
   },
   "source": [
    "Print the names of the columns and the number of rows of the dataset **(P1-1-1: 2 points)**"
   ]
  },
  {
   "cell_type": "code",
   "execution_count": 4,
   "id": "34c327b4",
   "metadata": {
    "execution": {
     "iopub.execute_input": "2023-11-16T21:02:08.557315Z",
     "iopub.status.busy": "2023-11-16T21:02:08.556060Z",
     "iopub.status.idle": "2023-11-16T21:02:08.562830Z",
     "shell.execute_reply": "2023-11-16T21:02:08.561939Z"
    },
    "id": "f5db727b",
    "outputId": "40525dfc-1fc3-442d-b53f-c796128fec7a",
    "papermill": {
     "duration": 0.025637,
     "end_time": "2023-11-16T21:02:08.564940",
     "exception": false,
     "start_time": "2023-11-16T21:02:08.539303",
     "status": "completed"
    },
    "tags": []
   },
   "outputs": [
    {
     "name": "stdout",
     "output_type": "stream",
     "text": [
      "Index(['age', 'sex', 'bmi', 'children', 'smk', 'region', 'target'], dtype='object')\n",
      "1070\n"
     ]
    }
   ],
   "source": [
    "print(data.columns)\n",
    "print(len(data))"
   ]
  },
  {
   "cell_type": "markdown",
   "id": "bee1d757",
   "metadata": {
    "id": "cd6f5035",
    "papermill": {
     "duration": 0.015745,
     "end_time": "2023-11-16T21:02:08.596890",
     "exception": false,
     "start_time": "2023-11-16T21:02:08.581145",
     "status": "completed"
    },
    "tags": []
   },
   "source": [
    "Get a brief description of the dataset **(P1-1-2: 2 points)**"
   ]
  },
  {
   "cell_type": "code",
   "execution_count": 5,
   "id": "360d2888",
   "metadata": {
    "execution": {
     "iopub.execute_input": "2023-11-16T21:02:08.631132Z",
     "iopub.status.busy": "2023-11-16T21:02:08.630593Z",
     "iopub.status.idle": "2023-11-16T21:02:08.665071Z",
     "shell.execute_reply": "2023-11-16T21:02:08.664114Z"
    },
    "id": "9d137e73",
    "outputId": "f9bd5bbb-c2df-4f3c-bebd-faa405082b75",
    "papermill": {
     "duration": 0.053537,
     "end_time": "2023-11-16T21:02:08.667343",
     "exception": false,
     "start_time": "2023-11-16T21:02:08.613806",
     "status": "completed"
    },
    "tags": []
   },
   "outputs": [
    {
     "name": "stdout",
     "output_type": "stream",
     "text": [
      "               age          bmi     children        target\n",
      "count  1070.000000  1070.000000  1070.000000   1070.000000\n",
      "mean     39.357009    30.560397     1.107477  13346.089736\n",
      "std      14.073960     6.043386     1.215983  12019.510778\n",
      "min      18.000000    15.960000     0.000000   1121.873900\n",
      "25%      27.000000    26.205000     0.000000   4897.667387\n",
      "50%      39.500000    30.210000     1.000000   9575.442100\n",
      "75%      51.000000    34.496250     2.000000  16746.657400\n",
      "max      64.000000    53.130000     5.000000  62592.873090\n",
      "\n",
      "here is the head of the data\n",
      "   age     sex    bmi  children smk     region       target\n",
      "0   46  female  19.95         2  no  northwest   9193.83850\n",
      "1   47  female  24.32         0  no  northeast   8534.67180\n",
      "2   52  female  24.86         0  no  southeast  27117.99378\n",
      "3   39  female  34.32         5  no  southeast   8596.82780\n",
      "4   54  female  21.47         3  no  northwest  12475.35130\n"
     ]
    }
   ],
   "source": [
    "print(data.describe())\n",
    "print(\"\\nhere is the head of the data\")\n",
    "print(data.head())"
   ]
  },
  {
   "cell_type": "markdown",
   "id": "dca0aeb4",
   "metadata": {
    "id": "2pZIoa00XxJv",
    "papermill": {
     "duration": 0.013287,
     "end_time": "2023-11-16T21:02:08.694509",
     "exception": false,
     "start_time": "2023-11-16T21:02:08.681222",
     "status": "completed"
    },
    "tags": []
   },
   "source": [
    "Check for missing values in the dataset **(P1-1-3: 2 points)**"
   ]
  },
  {
   "cell_type": "code",
   "execution_count": 6,
   "id": "f1aef483",
   "metadata": {
    "execution": {
     "iopub.execute_input": "2023-11-16T21:02:08.723934Z",
     "iopub.status.busy": "2023-11-16T21:02:08.723510Z",
     "iopub.status.idle": "2023-11-16T21:02:08.732566Z",
     "shell.execute_reply": "2023-11-16T21:02:08.731586Z"
    },
    "id": "DViuHWXTXsgx",
    "outputId": "ea19584e-6404-475e-8b04-1106e8ab1371",
    "papermill": {
     "duration": 0.026444,
     "end_time": "2023-11-16T21:02:08.734825",
     "exception": false,
     "start_time": "2023-11-16T21:02:08.708381",
     "status": "completed"
    },
    "tags": []
   },
   "outputs": [
    {
     "name": "stdout",
     "output_type": "stream",
     "text": [
      "=====================\n",
      "check for nan values\n",
      "age         False\n",
      "sex         False\n",
      "bmi         False\n",
      "children    False\n",
      "smk         False\n",
      "region      False\n",
      "target      False\n",
      "dtype: bool\n",
      "=====================\n",
      "check for null values\n",
      "age         False\n",
      "sex         False\n",
      "bmi         False\n",
      "children    False\n",
      "smk         False\n",
      "region      False\n",
      "target      False\n",
      "dtype: bool\n",
      "There is no missing data\n"
     ]
    }
   ],
   "source": [
    "#check for missing values\n",
    "print(\"=====================\\ncheck for nan values\")\n",
    "print(data.isna().any())\n",
    "print(\"=====================\\ncheck for null values\")\n",
    "print(data.isnull().any())\n",
    "\n",
    "print(\"There is no missing data\")"
   ]
  },
  {
   "cell_type": "markdown",
   "id": "36302c7d",
   "metadata": {
    "id": "V8V-MoInWnRw",
    "papermill": {
     "duration": 0.013617,
     "end_time": "2023-11-16T21:02:08.762408",
     "exception": false,
     "start_time": "2023-11-16T21:02:08.748791",
     "status": "completed"
    },
    "tags": []
   },
   "source": [
    "Use Histograms and Box-plots to visualize the distribution of numerical columns **(P1-1-4: 2 points)**"
   ]
  },
  {
   "cell_type": "code",
   "execution_count": 7,
   "id": "b23e48d5",
   "metadata": {
    "execution": {
     "iopub.execute_input": "2023-11-16T21:02:08.792732Z",
     "iopub.status.busy": "2023-11-16T21:02:08.792317Z",
     "iopub.status.idle": "2023-11-16T21:02:10.232121Z",
     "shell.execute_reply": "2023-11-16T21:02:10.230941Z"
    },
    "id": "F8DQzIq0Vv0p",
    "outputId": "dab0c07c-3cb3-4bca-d4f0-2cc0a0f2d09b",
    "papermill": {
     "duration": 1.457513,
     "end_time": "2023-11-16T21:02:10.234507",
     "exception": false,
     "start_time": "2023-11-16T21:02:08.776994",
     "status": "completed"
    },
    "tags": []
   },
   "outputs": [
    {
     "data": {
      "image/png": "[encoded data removed]",
      "text/plain": [
       "<Figure size 1600x400 with 4 Axes>"
      ]
     },
     "metadata": {},
     "output_type": "display_data"
    },
    {
     "data": {
      "image/png": "[encoded data removed]",
      "text/plain": [
       "<Figure size 1600x400 with 4 Axes>"
      ]
     },
     "metadata": {},
     "output_type": "display_data"
    }
   ],
   "source": [
    "# histogram for age\n",
    "# size of the plt figure\n",
    "plt.figure(figsize=(16,4))\n",
    "# set name for the whole figure\n",
    "plt.suptitle(\"Histogram for numeric data\")\n",
    "# here we make 4 hist plots using plt axis\n",
    "plt.subplot(1,4,1)\n",
    "plt.hist(data['age'],bins = 20, \n",
    "                            color ='khaki')\n",
    "plt.title(\"Age\")\n",
    "plt.subplot(1,4,2)\n",
    "plt.hist(data['bmi'],bins = 20, \n",
    "                            color ='green')\n",
    "#set title for the plot\n",
    "plt.title(\"BMI\")\n",
    "plt.subplot(1,4,3)\n",
    "plt.hist(data['children'],bins = 20, \n",
    "                            color ='blue')\n",
    "plt.title(\"children\")\n",
    "plt.subplot(1,4,4)\n",
    "plt.hist(data['target'],bins = 20, \n",
    "                            color ='red')\n",
    "plt.title(\"target\")\n",
    "plt.show()\n",
    "\n",
    "# plt boxplot\n",
    "plt.figure(figsize=(16,4))\n",
    "# set name for the whole figure\n",
    "plt.suptitle(\"Boxplot for numeric data\")\n",
    "# here we make 4 hist plots using plt axis\n",
    "plt.subplot(1,4,1)\n",
    "#plot with edge color green\n",
    "plt.boxplot(data['age'])\n",
    "plt.title(\"Age\")\n",
    "plt.subplot(1,4,2)\n",
    "plt.boxplot(data['bmi'])\n",
    "plt.title(\"BMI\")\n",
    "plt.subplot(1,4,3)\n",
    "plt.boxplot(data['children'])\n",
    "plt.title(\"children\")\n",
    "plt.subplot(1,4,4)\n",
    "plt.boxplot(data['target'])\n",
    "plt.title(\"target\")\n",
    "plt.show()"
   ]
  },
  {
   "cell_type": "markdown",
   "id": "e37fd4f6",
   "metadata": {
    "id": "b6_SBCyPXQ4G",
    "papermill": {
     "duration": 0.014755,
     "end_time": "2023-11-16T21:02:10.264479",
     "exception": false,
     "start_time": "2023-11-16T21:02:10.249724",
     "status": "completed"
    },
    "tags": []
   },
   "source": [
    "Count the number of unique values for each class in categorical columns and compare the distributions amongst them **(P1-1-5: 5 points)**"
   ]
  },
  {
   "cell_type": "code",
   "execution_count": 8,
   "id": "d8f40405",
   "metadata": {
    "execution": {
     "iopub.execute_input": "2023-11-16T21:02:10.296981Z",
     "iopub.status.busy": "2023-11-16T21:02:10.296317Z",
     "iopub.status.idle": "2023-11-16T21:02:10.311746Z",
     "shell.execute_reply": "2023-11-16T21:02:10.310628Z"
    },
    "id": "Mjmnl8B3XNPu",
    "outputId": "ecf5f87e-b777-480c-b821-489f84727c6e",
    "papermill": {
     "duration": 0.034405,
     "end_time": "2023-11-16T21:02:10.314003",
     "exception": false,
     "start_time": "2023-11-16T21:02:10.279598",
     "status": "completed"
    },
    "tags": []
   },
   "outputs": [
    {
     "name": "stdout",
     "output_type": "stream",
     "text": [
      "Here is the number of unique values in each column\n",
      "\n",
      "age           47\n",
      "sex            2\n",
      "bmi          494\n",
      "children       6\n",
      "smk            2\n",
      "region         4\n",
      "target      1070\n",
      "dtype: int64\n",
      "=======================\n",
      "\n",
      "The distribution of each value in categorical columns\n",
      "\n",
      "smk\n",
      "no     850\n",
      "yes    220\n",
      "dtype: int64\n",
      "=======================\n"
     ]
    }
   ],
   "source": [
    "# count unique values in categorical columns\n",
    "print(\"Here is the number of unique values in each column\\n\")\n",
    "print(data.nunique())\n",
    "print(\"=======================\\n\")\n",
    "# Here is the code for print number of each value in categorical columns\n",
    "print(\"The distribution of each value in categorical columns\\n\")\n",
    "GroupedData=data.groupby(by='smk').size()\n",
    "print(GroupedData)\n",
    "print(\"=======================\")"
   ]
  },
  {
   "cell_type": "code",
   "execution_count": 9,
   "id": "a2c7e536",
   "metadata": {
    "execution": {
     "iopub.execute_input": "2023-11-16T21:02:10.346851Z",
     "iopub.status.busy": "2023-11-16T21:02:10.346107Z",
     "iopub.status.idle": "2023-11-16T21:02:10.355961Z",
     "shell.execute_reply": "2023-11-16T21:02:10.354566Z"
    },
    "papermill": {
     "duration": 0.028831,
     "end_time": "2023-11-16T21:02:10.358172",
     "exception": false,
     "start_time": "2023-11-16T21:02:10.329341",
     "status": "completed"
    },
    "tags": []
   },
   "outputs": [
    {
     "name": "stdout",
     "output_type": "stream",
     "text": [
      "sex\n",
      "female    522\n",
      "male      548\n",
      "dtype: int64\n",
      "=======================\n",
      "region\n",
      "northeast    267\n",
      "northwest    256\n",
      "southeast    283\n",
      "southwest    264\n",
      "dtype: int64\n",
      "=======================\n"
     ]
    }
   ],
   "source": [
    "GroupedData = data.groupby(by='sex').size()\n",
    "print(GroupedData)\n",
    "print(\"=======================\")\n",
    "GroupedData = data.groupby(by='region').size()\n",
    "print(GroupedData)\n",
    "print(\"=======================\")"
   ]
  },
  {
   "cell_type": "code",
   "execution_count": 10,
   "id": "b992b430",
   "metadata": {
    "execution": {
     "iopub.execute_input": "2023-11-16T21:02:10.391192Z",
     "iopub.status.busy": "2023-11-16T21:02:10.390503Z",
     "iopub.status.idle": "2023-11-16T21:02:10.925039Z",
     "shell.execute_reply": "2023-11-16T21:02:10.923915Z"
    },
    "papermill": {
     "duration": 0.553536,
     "end_time": "2023-11-16T21:02:10.927195",
     "exception": false,
     "start_time": "2023-11-16T21:02:10.373659",
     "status": "completed"
    },
    "tags": []
   },
   "outputs": [
    {
     "data": {
      "image/png": "[encoded data removed]",
      "text/plain": [
       "<Figure size 2100x400 with 3 Axes>"
      ]
     },
     "metadata": {},
     "output_type": "display_data"
    }
   ],
   "source": [
    "# print here I draw the histogram of categorical data\n",
    "plt.figure(figsize=(21,4))\n",
    "# set name for the whole figure\n",
    "plt.suptitle(\"Histogram for categorical data\")\n",
    "# here we make 4 hist plots using plt axis\n",
    "plt.subplot(1,3,1)\n",
    "plt.hist(data['smk'],color ='khaki')\n",
    "plt.title(\"smoking\")\n",
    "plt.subplot(1,3,2)\n",
    "plt.hist(data['sex'],color=\"green\")\n",
    "plt.title(\"sex\")\n",
    "plt.subplot(1,3,3)\n",
    "plt.hist(data['region'],color=\"pink\")\n",
    "plt.title(\"region\")\n",
    "plt.show()"
   ]
  },
  {
   "cell_type": "markdown",
   "id": "44e8d5eb",
   "metadata": {
    "id": "qF-npRtpYOEv",
    "papermill": {
     "duration": 0.015697,
     "end_time": "2023-11-16T21:02:10.958978",
     "exception": false,
     "start_time": "2023-11-16T21:02:10.943281",
     "status": "completed"
    },
    "tags": []
   },
   "source": [
    "Convert columns with string values (`sex`, `smk`, and `region`) into numerical values **(P1-1-6: 2 points)**"
   ]
  },
  {
   "cell_type": "code",
   "execution_count": 11,
   "id": "071cc5fb",
   "metadata": {
    "execution": {
     "iopub.execute_input": "2023-11-16T21:02:10.993034Z",
     "iopub.status.busy": "2023-11-16T21:02:10.992316Z",
     "iopub.status.idle": "2023-11-16T21:02:11.013615Z",
     "shell.execute_reply": "2023-11-16T21:02:11.012923Z"
    },
    "id": "AU0hZTtEYGPu",
    "outputId": "dce73f21-c0c5-4d03-95d8-4bee8fcb6e31",
    "papermill": {
     "duration": 0.040542,
     "end_time": "2023-11-16T21:02:11.015538",
     "exception": false,
     "start_time": "2023-11-16T21:02:10.974996",
     "status": "completed"
    },
    "tags": []
   },
   "outputs": [
    {
     "data": {
      "text/html": [
       "<div>\n",
       "<style scoped>\n",
       "    .dataframe tbody tr th:only-of-type {\n",
       "        vertical-align: middle;\n",
       "    }\n",
       "\n",
       "    .dataframe tbody tr th {\n",
       "        vertical-align: top;\n",
       "    }\n",
       "\n",
       "    .dataframe thead th {\n",
       "        text-align: right;\n",
       "    }\n",
       "</style>\n",
       "<table border=\"1\" class=\"dataframe\">\n",
       "  <thead>\n",
       "    <tr style=\"text-align: right;\">\n",
       "      <th></th>\n",
       "      <th>age</th>\n",
       "      <th>bmi</th>\n",
       "      <th>children</th>\n",
       "      <th>target</th>\n",
       "      <th>sex</th>\n",
       "      <th>smk</th>\n",
       "      <th>region</th>\n",
       "    </tr>\n",
       "  </thead>\n",
       "  <tbody>\n",
       "    <tr>\n",
       "      <th>0</th>\n",
       "      <td>46</td>\n",
       "      <td>19.95</td>\n",
       "      <td>2</td>\n",
       "      <td>9193.83850</td>\n",
       "      <td>0</td>\n",
       "      <td>0</td>\n",
       "      <td>0</td>\n",
       "    </tr>\n",
       "    <tr>\n",
       "      <th>1</th>\n",
       "      <td>47</td>\n",
       "      <td>24.32</td>\n",
       "      <td>0</td>\n",
       "      <td>8534.67180</td>\n",
       "      <td>0</td>\n",
       "      <td>0</td>\n",
       "      <td>1</td>\n",
       "    </tr>\n",
       "    <tr>\n",
       "      <th>2</th>\n",
       "      <td>52</td>\n",
       "      <td>24.86</td>\n",
       "      <td>0</td>\n",
       "      <td>27117.99378</td>\n",
       "      <td>0</td>\n",
       "      <td>0</td>\n",
       "      <td>2</td>\n",
       "    </tr>\n",
       "    <tr>\n",
       "      <th>3</th>\n",
       "      <td>39</td>\n",
       "      <td>34.32</td>\n",
       "      <td>5</td>\n",
       "      <td>8596.82780</td>\n",
       "      <td>0</td>\n",
       "      <td>0</td>\n",
       "      <td>2</td>\n",
       "    </tr>\n",
       "    <tr>\n",
       "      <th>4</th>\n",
       "      <td>54</td>\n",
       "      <td>21.47</td>\n",
       "      <td>3</td>\n",
       "      <td>12475.35130</td>\n",
       "      <td>0</td>\n",
       "      <td>0</td>\n",
       "      <td>0</td>\n",
       "    </tr>\n",
       "  </tbody>\n",
       "</table>\n",
       "</div>"
      ],
      "text/plain": [
       "   age    bmi  children       target  sex  smk  region\n",
       "0   46  19.95         2   9193.83850    0    0       0\n",
       "1   47  24.32         0   8534.67180    0    0       1\n",
       "2   52  24.86         0  27117.99378    0    0       2\n",
       "3   39  34.32         5   8596.82780    0    0       2\n",
       "4   54  21.47         3  12475.35130    0    0       0"
      ]
     },
     "execution_count": 11,
     "metadata": {},
     "output_type": "execute_result"
    }
   ],
   "source": [
    "# code from scratch :)\n",
    "sex = pd.factorize(data[\"sex\"])[0]\n",
    "smoker = pd.factorize(data[\"smk\"])[0]\n",
    "region = pd.factorize(data[\"region\"])[0]\n",
    "data = data.drop([\"sex\",\"smk\",\"region\"],axis=1)\n",
    "data[\"sex\"]=sex\n",
    "data[\"smk\"]=smoker\n",
    "data[\"region\"]=region\n",
    "data.head()"
   ]
  },
  {
   "cell_type": "code",
   "execution_count": 12,
   "id": "6c17648f",
   "metadata": {
    "execution": {
     "iopub.execute_input": "2023-11-16T21:02:11.050183Z",
     "iopub.status.busy": "2023-11-16T21:02:11.049482Z",
     "iopub.status.idle": "2023-11-16T21:02:11.093463Z",
     "shell.execute_reply": "2023-11-16T21:02:11.092336Z"
    },
    "papermill": {
     "duration": 0.063893,
     "end_time": "2023-11-16T21:02:11.095913",
     "exception": false,
     "start_time": "2023-11-16T21:02:11.032020",
     "status": "completed"
    },
    "tags": []
   },
   "outputs": [
    {
     "data": {
      "text/html": [
       "<div>\n",
       "<style scoped>\n",
       "    .dataframe tbody tr th:only-of-type {\n",
       "        vertical-align: middle;\n",
       "    }\n",
       "\n",
       "    .dataframe tbody tr th {\n",
       "        vertical-align: top;\n",
       "    }\n",
       "\n",
       "    .dataframe thead th {\n",
       "        text-align: right;\n",
       "    }\n",
       "</style>\n",
       "<table border=\"1\" class=\"dataframe\">\n",
       "  <thead>\n",
       "    <tr style=\"text-align: right;\">\n",
       "      <th></th>\n",
       "      <th>age</th>\n",
       "      <th>bmi</th>\n",
       "      <th>children</th>\n",
       "      <th>target</th>\n",
       "      <th>sex</th>\n",
       "      <th>smk</th>\n",
       "      <th>region</th>\n",
       "    </tr>\n",
       "  </thead>\n",
       "  <tbody>\n",
       "    <tr>\n",
       "      <th>0</th>\n",
       "      <td>46</td>\n",
       "      <td>19.95</td>\n",
       "      <td>2</td>\n",
       "      <td>9193.83850</td>\n",
       "      <td>0</td>\n",
       "      <td>0</td>\n",
       "      <td>0</td>\n",
       "    </tr>\n",
       "    <tr>\n",
       "      <th>1</th>\n",
       "      <td>47</td>\n",
       "      <td>24.32</td>\n",
       "      <td>0</td>\n",
       "      <td>8534.67180</td>\n",
       "      <td>0</td>\n",
       "      <td>0</td>\n",
       "      <td>1</td>\n",
       "    </tr>\n",
       "    <tr>\n",
       "      <th>2</th>\n",
       "      <td>52</td>\n",
       "      <td>24.86</td>\n",
       "      <td>0</td>\n",
       "      <td>27117.99378</td>\n",
       "      <td>0</td>\n",
       "      <td>0</td>\n",
       "      <td>2</td>\n",
       "    </tr>\n",
       "    <tr>\n",
       "      <th>3</th>\n",
       "      <td>39</td>\n",
       "      <td>34.32</td>\n",
       "      <td>5</td>\n",
       "      <td>8596.82780</td>\n",
       "      <td>0</td>\n",
       "      <td>0</td>\n",
       "      <td>2</td>\n",
       "    </tr>\n",
       "    <tr>\n",
       "      <th>4</th>\n",
       "      <td>54</td>\n",
       "      <td>21.47</td>\n",
       "      <td>3</td>\n",
       "      <td>12475.35130</td>\n",
       "      <td>0</td>\n",
       "      <td>0</td>\n",
       "      <td>0</td>\n",
       "    </tr>\n",
       "  </tbody>\n",
       "</table>\n",
       "</div>"
      ],
      "text/plain": [
       "   age    bmi  children       target  sex  smk  region\n",
       "0   46  19.95         2   9193.83850    0    0       0\n",
       "1   47  24.32         0   8534.67180    0    0       1\n",
       "2   52  24.86         0  27117.99378    0    0       2\n",
       "3   39  34.32         5   8596.82780    0    0       2\n",
       "4   54  21.47         3  12475.35130    0    0       0"
      ]
     },
     "execution_count": 12,
     "metadata": {},
     "output_type": "execute_result"
    }
   ],
   "source": [
    "# using LabelEncoder\n",
    "from sklearn.preprocessing import LabelEncoder\n",
    "sex_enc = sklearn.preprocessing.LabelEncoder()\n",
    "data[\"sex\"] = sex_enc.fit_transform(data[\"sex\"])\n",
    "smk_enc = sklearn.preprocessing.LabelEncoder()\n",
    "data[\"smk\"] = smk_enc.fit_transform(data[\"smk\"])\n",
    "region_enc = sklearn.preprocessing.LabelEncoder()\n",
    "data[\"region\"] = region_enc.fit_transform(data[\"region\"])\n",
    "data.head()"
   ]
  },
  {
   "cell_type": "markdown",
   "id": "9d351f67",
   "metadata": {
    "id": "2c23d7f7",
    "papermill": {
     "duration": 0.016103,
     "end_time": "2023-11-16T21:02:11.128522",
     "exception": false,
     "start_time": "2023-11-16T21:02:11.112419",
     "status": "completed"
    },
    "tags": []
   },
   "source": [
    "## Sec 2: Check for linear relation **(P1-Sec2: 10 points)**"
   ]
  },
  {
   "cell_type": "markdown",
   "id": "11bcfdaf",
   "metadata": {
    "id": "41e88af0",
    "papermill": {
     "duration": 0.016625,
     "end_time": "2023-11-16T21:02:11.161532",
     "exception": false,
     "start_time": "2023-11-16T21:02:11.144907",
     "status": "completed"
    },
    "tags": []
   },
   "source": [
    "Plot `age` and `smk` against `target` **(P1-2-1: 5 points)**"
   ]
  },
  {
   "cell_type": "code",
   "execution_count": 13,
   "id": "841ea1d7",
   "metadata": {
    "execution": {
     "iopub.execute_input": "2023-11-16T21:02:11.196281Z",
     "iopub.status.busy": "2023-11-16T21:02:11.195391Z",
     "iopub.status.idle": "2023-11-16T21:02:12.131586Z",
     "shell.execute_reply": "2023-11-16T21:02:12.130825Z"
    },
    "id": "f4512745",
    "outputId": "f3dc04ba-e567-427d-a644-7f19dbc5c85c",
    "papermill": {
     "duration": 0.956218,
     "end_time": "2023-11-16T21:02:12.134090",
     "exception": false,
     "start_time": "2023-11-16T21:02:11.177872",
     "status": "completed"
    },
    "tags": []
   },
   "outputs": [
    {
     "name": "stdout",
     "output_type": "stream",
     "text": [
      "plotting the mean\n"
     ]
    },
    {
     "data": {
      "image/png": "[encoded data removed]",
      "text/plain": [
       "<Figure size 640x480 with 1 Axes>"
      ]
     },
     "metadata": {},
     "output_type": "display_data"
    },
    {
     "data": {
      "image/png": "[encoded data removed]",
      "text/plain": [
       "<Figure size 640x480 with 1 Axes>"
      ]
     },
     "metadata": {},
     "output_type": "display_data"
    },
    {
     "name": "stdout",
     "output_type": "stream",
     "text": [
      "The smk one is linear \n",
      "Here I draw the sctter too\n"
     ]
    },
    {
     "data": {
      "image/png": "[encoded data removed]",
      "text/plain": [
       "<Figure size 1600x400 with 2 Axes>"
      ]
     },
     "metadata": {},
     "output_type": "display_data"
    }
   ],
   "source": [
    "print(\"plotting the mean\")\n",
    "data.groupby('age').mean().reset_index().plot(x='age',y='target',title='age vs. target',color=\"Red\")\n",
    "\n",
    "data.groupby('smk').mean().reset_index().plot(x='smk',y='target',title='smk vs. target',color=\"Green\")\n",
    "plt.show()\n",
    "\n",
    "print(\"The smk one is linear \\nHere I draw the sctter too\")\n",
    "# plot age and smk against target\n",
    "plt.figure(figsize=(16,4))\n",
    "plt.subplot(1,2,1)\n",
    "plt.scatter(data[\"age\"],data[\"target\"])\n",
    "plt.xlabel(\"age\")\n",
    "plt.ylabel(\"target\")\n",
    "plt.subplot(1,2,2)\n",
    "plt.scatter(data[\"smk\"],data[\"target\"])\n",
    "plt.xlabel(\"smk\")\n",
    "plt.ylabel(\"target\")\n",
    "plt.show()\n"
   ]
  },
  {
   "cell_type": "markdown",
   "id": "a08ee77f",
   "metadata": {
    "id": "11fdbf07",
    "papermill": {
     "duration": 0.018431,
     "end_time": "2023-11-16T21:02:12.171605",
     "exception": false,
     "start_time": "2023-11-16T21:02:12.153174",
     "status": "completed"
    },
    "tags": []
   },
   "source": [
    "Plot the correlation matrix for numerical features **(P1-2-2: 5 points)**"
   ]
  },
  {
   "cell_type": "code",
   "execution_count": 14,
   "id": "c4a62c8f",
   "metadata": {
    "execution": {
     "iopub.execute_input": "2023-11-16T21:02:12.211242Z",
     "iopub.status.busy": "2023-11-16T21:02:12.210843Z",
     "iopub.status.idle": "2023-11-16T21:02:13.015193Z",
     "shell.execute_reply": "2023-11-16T21:02:13.014079Z"
    },
    "id": "072cd188",
    "outputId": "79b9166a-becd-456e-8122-442abb9262d8",
    "papermill": {
     "duration": 0.827255,
     "end_time": "2023-11-16T21:02:13.017406",
     "exception": false,
     "start_time": "2023-11-16T21:02:12.190151",
     "status": "completed"
    },
    "tags": []
   },
   "outputs": [
    {
     "name": "stdout",
     "output_type": "stream",
     "text": [
      "          children       age       bmi    target\n",
      "children  1.000000  0.060999 -0.005040  0.071885\n",
      "age       0.060999  1.000000  0.118274  0.281721\n",
      "bmi      -0.005040  0.118274  1.000000  0.197316\n",
      "target    0.071885  0.281721  0.197316  1.000000\n"
     ]
    },
    {
     "data": {
      "image/png": "[encoded data removed]",
      "text/plain": [
       "<Figure size 640x480 with 2 Axes>"
      ]
     },
     "metadata": {},
     "output_type": "display_data"
    },
    {
     "name": "stdout",
     "output_type": "stream",
     "text": [
      "Here is the full correlation matrix\n",
      "               age       bmi  children    target       sex       smk    region\n",
      "age       1.000000  0.118274  0.060999  0.281721 -0.008459 -0.052035  0.006363\n",
      "bmi       0.118274  1.000000 -0.005040  0.197316  0.015293 -0.003450  0.150175\n",
      "children  0.060999 -0.005040  1.000000  0.071885  0.017080  0.013994 -0.024802\n",
      "target    0.281721  0.197316  0.071885  1.000000  0.056802  0.780063  0.012671\n",
      "sex      -0.008459  0.015293  0.017080  0.056802  1.000000  0.070908 -0.020711\n",
      "smk      -0.052035 -0.003450  0.013994  0.780063  0.070908  1.000000  0.006042\n",
      "region    0.006363  0.150175 -0.024802  0.012671 -0.020711  0.006042  1.000000\n"
     ]
    },
    {
     "data": {
      "image/png": "[encoded data removed]",
      "text/plain": [
       "<Figure size 640x480 with 2 Axes>"
      ]
     },
     "metadata": {},
     "output_type": "display_data"
    }
   ],
   "source": [
    "# get the dataframe of children,age,bmi,target\n",
    "numerical_features = data[[\"children\",\"age\",\"bmi\",\"target\"]]\n",
    "corr = numerical_features.corr()\n",
    "print(corr)\n",
    "sns.heatmap(corr,annot=True)\n",
    "plt.show()\n",
    "print(\"Here is the full correlation matrix\")\n",
    "corr = data.corr()\n",
    "print(corr)\n",
    "sns.heatmap(corr, annot=True)\n",
    "plt.yticks(rotation=0)\n",
    "plt.show()\n"
   ]
  },
  {
   "cell_type": "markdown",
   "id": "cf433979",
   "metadata": {
    "id": "269f0189",
    "papermill": {
     "duration": 0.020162,
     "end_time": "2023-11-16T21:02:13.057928",
     "exception": false,
     "start_time": "2023-11-16T21:02:13.037766",
     "status": "completed"
    },
    "tags": []
   },
   "source": [
    "# Phase 2: Preprocessing"
   ]
  },
  {
   "cell_type": "markdown",
   "id": "dfa6fba2",
   "metadata": {
    "id": "1176754c",
    "papermill": {
     "duration": 0.02034,
     "end_time": "2023-11-16T21:02:13.099103",
     "exception": false,
     "start_time": "2023-11-16T21:02:13.078763",
     "status": "completed"
    },
    "tags": []
   },
   "source": [
    "## Sec 1: Handling Categorical Variables **(P2-Sec1: 15 points)**"
   ]
  },
  {
   "cell_type": "markdown",
   "id": "2f73fa6b",
   "metadata": {
    "id": "ed3ee8ee",
    "papermill": {
     "duration": 0.020307,
     "end_time": "2023-11-16T21:02:13.140185",
     "exception": false,
     "start_time": "2023-11-16T21:02:13.119878",
     "status": "completed"
    },
    "tags": []
   },
   "source": [
    "Using one-hot encoding, convert the `region` variable to some numerical variables (the result should be a dataframe)\n",
    "<br>\n",
    "One-hot encoding is a method for converting categorical data to numerical ones that can be fed into a model. This method works by creating a binary vector for each category. **(P2-1-1: 5 points)**"
   ]
  },
  {
   "cell_type": "code",
   "execution_count": 15,
   "id": "d3f2d90f",
   "metadata": {
    "execution": {
     "iopub.execute_input": "2023-11-16T21:02:13.183293Z",
     "iopub.status.busy": "2023-11-16T21:02:13.182179Z",
     "iopub.status.idle": "2023-11-16T21:02:13.193874Z",
     "shell.execute_reply": "2023-11-16T21:02:13.192743Z"
    },
    "id": "10ff0e61",
    "outputId": "4e2e10a6-324b-4057-ad72-e5d0b9735019",
    "papermill": {
     "duration": 0.035511,
     "end_time": "2023-11-16T21:02:13.196001",
     "exception": false,
     "start_time": "2023-11-16T21:02:13.160490",
     "status": "completed"
    },
    "tags": []
   },
   "outputs": [
    {
     "name": "stdout",
     "output_type": "stream",
     "text": [
      "       0      1      2      3\n",
      "0   True  False  False  False\n",
      "1  False   True  False  False\n",
      "2  False  False   True  False\n",
      "3  False  False   True  False\n",
      "4   True  False  False  False\n"
     ]
    }
   ],
   "source": [
    "region = pd.get_dummies(data['region'])\n",
    "print(region.head())\n",
    "data = pd.concat((data, region), axis=1)\n",
    "data.drop(['region'], axis=1,inplace=True)"
   ]
  },
  {
   "cell_type": "markdown",
   "id": "581e2e59",
   "metadata": {
    "id": "150e1f5c",
    "papermill": {
     "duration": 0.019943,
     "end_time": "2023-11-16T21:02:13.236325",
     "exception": false,
     "start_time": "2023-11-16T21:02:13.216382",
     "status": "completed"
    },
    "tags": []
   },
   "source": [
    "Do the same thing for the `smoker` and `sex` variable (the result should be a dataframe) **(P2-1-1: 10 points)**"
   ]
  },
  {
   "cell_type": "code",
   "execution_count": 16,
   "id": "2e0fd534",
   "metadata": {
    "execution": {
     "iopub.execute_input": "2023-11-16T21:02:13.279583Z",
     "iopub.status.busy": "2023-11-16T21:02:13.278580Z",
     "iopub.status.idle": "2023-11-16T21:02:13.292992Z",
     "shell.execute_reply": "2023-11-16T21:02:13.291970Z"
    },
    "id": "17086e1b",
    "outputId": "aa248e59-cb96-44b7-9ff4-17e2a51b8119",
    "papermill": {
     "duration": 0.038345,
     "end_time": "2023-11-16T21:02:13.295043",
     "exception": false,
     "start_time": "2023-11-16T21:02:13.256698",
     "status": "completed"
    },
    "tags": []
   },
   "outputs": [
    {
     "name": "stdout",
     "output_type": "stream",
     "text": [
      "      0      1\n",
      "0  True  False\n",
      "1  True  False\n",
      "2  True  False\n",
      "3  True  False\n",
      "4  True  False\n",
      "      0      1\n",
      "0  True  False\n",
      "1  True  False\n",
      "2  True  False\n",
      "3  True  False\n",
      "4  True  False\n"
     ]
    }
   ],
   "source": [
    "sex = pd.get_dummies(data['sex'])\n",
    "smoker = pd.get_dummies(data['smk'])\n",
    "print(sex.head())\n",
    "print(smoker.head())\n",
    "data = pd.concat((data,sex,smoker),axis=1)\n",
    "data.drop(['sex','smk'],axis=1,inplace=True)"
   ]
  },
  {
   "cell_type": "code",
   "execution_count": 17,
   "id": "627b9309",
   "metadata": {
    "execution": {
     "iopub.execute_input": "2023-11-16T21:02:13.337833Z",
     "iopub.status.busy": "2023-11-16T21:02:13.337138Z",
     "iopub.status.idle": "2023-11-16T21:02:13.354750Z",
     "shell.execute_reply": "2023-11-16T21:02:13.353572Z"
    },
    "papermill": {
     "duration": 0.041373,
     "end_time": "2023-11-16T21:02:13.356950",
     "exception": false,
     "start_time": "2023-11-16T21:02:13.315577",
     "status": "completed"
    },
    "tags": []
   },
   "outputs": [
    {
     "data": {
      "text/html": [
       "<div>\n",
       "<style scoped>\n",
       "    .dataframe tbody tr th:only-of-type {\n",
       "        vertical-align: middle;\n",
       "    }\n",
       "\n",
       "    .dataframe tbody tr th {\n",
       "        vertical-align: top;\n",
       "    }\n",
       "\n",
       "    .dataframe thead th {\n",
       "        text-align: right;\n",
       "    }\n",
       "</style>\n",
       "<table border=\"1\" class=\"dataframe\">\n",
       "  <thead>\n",
       "    <tr style=\"text-align: right;\">\n",
       "      <th></th>\n",
       "      <th>age</th>\n",
       "      <th>bmi</th>\n",
       "      <th>children</th>\n",
       "      <th>target</th>\n",
       "      <th>0</th>\n",
       "      <th>1</th>\n",
       "      <th>2</th>\n",
       "      <th>3</th>\n",
       "      <th>0</th>\n",
       "      <th>1</th>\n",
       "      <th>0</th>\n",
       "      <th>1</th>\n",
       "    </tr>\n",
       "  </thead>\n",
       "  <tbody>\n",
       "    <tr>\n",
       "      <th>0</th>\n",
       "      <td>46</td>\n",
       "      <td>19.95</td>\n",
       "      <td>2</td>\n",
       "      <td>9193.83850</td>\n",
       "      <td>True</td>\n",
       "      <td>False</td>\n",
       "      <td>False</td>\n",
       "      <td>False</td>\n",
       "      <td>True</td>\n",
       "      <td>False</td>\n",
       "      <td>True</td>\n",
       "      <td>False</td>\n",
       "    </tr>\n",
       "    <tr>\n",
       "      <th>1</th>\n",
       "      <td>47</td>\n",
       "      <td>24.32</td>\n",
       "      <td>0</td>\n",
       "      <td>8534.67180</td>\n",
       "      <td>False</td>\n",
       "      <td>True</td>\n",
       "      <td>False</td>\n",
       "      <td>False</td>\n",
       "      <td>True</td>\n",
       "      <td>False</td>\n",
       "      <td>True</td>\n",
       "      <td>False</td>\n",
       "    </tr>\n",
       "    <tr>\n",
       "      <th>2</th>\n",
       "      <td>52</td>\n",
       "      <td>24.86</td>\n",
       "      <td>0</td>\n",
       "      <td>27117.99378</td>\n",
       "      <td>False</td>\n",
       "      <td>False</td>\n",
       "      <td>True</td>\n",
       "      <td>False</td>\n",
       "      <td>True</td>\n",
       "      <td>False</td>\n",
       "      <td>True</td>\n",
       "      <td>False</td>\n",
       "    </tr>\n",
       "    <tr>\n",
       "      <th>3</th>\n",
       "      <td>39</td>\n",
       "      <td>34.32</td>\n",
       "      <td>5</td>\n",
       "      <td>8596.82780</td>\n",
       "      <td>False</td>\n",
       "      <td>False</td>\n",
       "      <td>True</td>\n",
       "      <td>False</td>\n",
       "      <td>True</td>\n",
       "      <td>False</td>\n",
       "      <td>True</td>\n",
       "      <td>False</td>\n",
       "    </tr>\n",
       "    <tr>\n",
       "      <th>4</th>\n",
       "      <td>54</td>\n",
       "      <td>21.47</td>\n",
       "      <td>3</td>\n",
       "      <td>12475.35130</td>\n",
       "      <td>True</td>\n",
       "      <td>False</td>\n",
       "      <td>False</td>\n",
       "      <td>False</td>\n",
       "      <td>True</td>\n",
       "      <td>False</td>\n",
       "      <td>True</td>\n",
       "      <td>False</td>\n",
       "    </tr>\n",
       "  </tbody>\n",
       "</table>\n",
       "</div>"
      ],
      "text/plain": [
       "   age    bmi  children       target      0      1      2      3     0      1  \\\n",
       "0   46  19.95         2   9193.83850   True  False  False  False  True  False   \n",
       "1   47  24.32         0   8534.67180  False   True  False  False  True  False   \n",
       "2   52  24.86         0  27117.99378  False  False   True  False  True  False   \n",
       "3   39  34.32         5   8596.82780  False  False   True  False  True  False   \n",
       "4   54  21.47         3  12475.35130   True  False  False  False  True  False   \n",
       "\n",
       "      0      1  \n",
       "0  True  False  \n",
       "1  True  False  \n",
       "2  True  False  \n",
       "3  True  False  \n",
       "4  True  False  "
      ]
     },
     "execution_count": 17,
     "metadata": {},
     "output_type": "execute_result"
    }
   ],
   "source": [
    "data.head()"
   ]
  },
  {
   "cell_type": "markdown",
   "id": "d3b5c086",
   "metadata": {
    "id": "f84cc753",
    "papermill": {
     "duration": 0.020453,
     "end_time": "2023-11-16T21:02:13.398364",
     "exception": false,
     "start_time": "2023-11-16T21:02:13.377911",
     "status": "completed"
    },
    "tags": []
   },
   "source": [
    "## Sec 2: Normalization **(P2-Sec2: 10 points)**"
   ]
  },
  {
   "cell_type": "markdown",
   "id": "06039f8c",
   "metadata": {
    "id": "ac7bf50f",
    "papermill": {
     "duration": 0.020142,
     "end_time": "2023-11-16T21:02:13.439280",
     "exception": false,
     "start_time": "2023-11-16T21:02:13.419138",
     "status": "completed"
    },
    "tags": []
   },
   "source": [
    "Normalize the columns `age`, `bmi`, and `children`. After this process, they should take values between 0 and 1. **(P2-2: 10 points)**"
   ]
  },
  {
   "cell_type": "code",
   "execution_count": 18,
   "id": "fcf8c6b0",
   "metadata": {
    "execution": {
     "iopub.execute_input": "2023-11-16T21:02:13.482554Z",
     "iopub.status.busy": "2023-11-16T21:02:13.482141Z",
     "iopub.status.idle": "2023-11-16T21:02:14.560887Z",
     "shell.execute_reply": "2023-11-16T21:02:14.559776Z"
    },
    "id": "f88ba300",
    "outputId": "d696cc60-941d-43e5-9290-f83221fdcd49",
    "papermill": {
     "duration": 1.102937,
     "end_time": "2023-11-16T21:02:14.563069",
     "exception": false,
     "start_time": "2023-11-16T21:02:13.460132",
     "status": "completed"
    },
    "tags": []
   },
   "outputs": [
    {
     "data": {
      "text/html": [
       "<div>\n",
       "<style scoped>\n",
       "    .dataframe tbody tr th:only-of-type {\n",
       "        vertical-align: middle;\n",
       "    }\n",
       "\n",
       "    .dataframe tbody tr th {\n",
       "        vertical-align: top;\n",
       "    }\n",
       "\n",
       "    .dataframe thead th {\n",
       "        text-align: right;\n",
       "    }\n",
       "</style>\n",
       "<table border=\"1\" class=\"dataframe\">\n",
       "  <thead>\n",
       "    <tr style=\"text-align: right;\">\n",
       "      <th></th>\n",
       "      <th>age</th>\n",
       "      <th>bmi</th>\n",
       "      <th>children</th>\n",
       "      <th>target</th>\n",
       "      <th>0</th>\n",
       "      <th>1</th>\n",
       "      <th>2</th>\n",
       "      <th>3</th>\n",
       "      <th>0</th>\n",
       "      <th>1</th>\n",
       "      <th>0</th>\n",
       "      <th>1</th>\n",
       "    </tr>\n",
       "  </thead>\n",
       "  <tbody>\n",
       "    <tr>\n",
       "      <th>0</th>\n",
       "      <td>0.608696</td>\n",
       "      <td>0.107345</td>\n",
       "      <td>0.4</td>\n",
       "      <td>9193.83850</td>\n",
       "      <td>True</td>\n",
       "      <td>False</td>\n",
       "      <td>False</td>\n",
       "      <td>False</td>\n",
       "      <td>True</td>\n",
       "      <td>False</td>\n",
       "      <td>True</td>\n",
       "      <td>False</td>\n",
       "    </tr>\n",
       "    <tr>\n",
       "      <th>1</th>\n",
       "      <td>0.630435</td>\n",
       "      <td>0.224913</td>\n",
       "      <td>0.0</td>\n",
       "      <td>8534.67180</td>\n",
       "      <td>False</td>\n",
       "      <td>True</td>\n",
       "      <td>False</td>\n",
       "      <td>False</td>\n",
       "      <td>True</td>\n",
       "      <td>False</td>\n",
       "      <td>True</td>\n",
       "      <td>False</td>\n",
       "    </tr>\n",
       "    <tr>\n",
       "      <th>2</th>\n",
       "      <td>0.739130</td>\n",
       "      <td>0.239440</td>\n",
       "      <td>0.0</td>\n",
       "      <td>27117.99378</td>\n",
       "      <td>False</td>\n",
       "      <td>False</td>\n",
       "      <td>True</td>\n",
       "      <td>False</td>\n",
       "      <td>True</td>\n",
       "      <td>False</td>\n",
       "      <td>True</td>\n",
       "      <td>False</td>\n",
       "    </tr>\n",
       "    <tr>\n",
       "      <th>3</th>\n",
       "      <td>0.456522</td>\n",
       "      <td>0.493947</td>\n",
       "      <td>1.0</td>\n",
       "      <td>8596.82780</td>\n",
       "      <td>False</td>\n",
       "      <td>False</td>\n",
       "      <td>True</td>\n",
       "      <td>False</td>\n",
       "      <td>True</td>\n",
       "      <td>False</td>\n",
       "      <td>True</td>\n",
       "      <td>False</td>\n",
       "    </tr>\n",
       "    <tr>\n",
       "      <th>4</th>\n",
       "      <td>0.782609</td>\n",
       "      <td>0.148238</td>\n",
       "      <td>0.6</td>\n",
       "      <td>12475.35130</td>\n",
       "      <td>True</td>\n",
       "      <td>False</td>\n",
       "      <td>False</td>\n",
       "      <td>False</td>\n",
       "      <td>True</td>\n",
       "      <td>False</td>\n",
       "      <td>True</td>\n",
       "      <td>False</td>\n",
       "    </tr>\n",
       "  </tbody>\n",
       "</table>\n",
       "</div>"
      ],
      "text/plain": [
       "        age       bmi  children       target      0      1      2      3  \\\n",
       "0  0.608696  0.107345       0.4   9193.83850   True  False  False  False   \n",
       "1  0.630435  0.224913       0.0   8534.67180  False   True  False  False   \n",
       "2  0.739130  0.239440       0.0  27117.99378  False  False   True  False   \n",
       "3  0.456522  0.493947       1.0   8596.82780  False  False   True  False   \n",
       "4  0.782609  0.148238       0.6  12475.35130   True  False  False  False   \n",
       "\n",
       "      0      1     0      1  \n",
       "0  True  False  True  False  \n",
       "1  True  False  True  False  \n",
       "2  True  False  True  False  \n",
       "3  True  False  True  False  \n",
       "4  True  False  True  False  "
      ]
     },
     "execution_count": 18,
     "metadata": {},
     "output_type": "execute_result"
    }
   ],
   "source": [
    "data['age'] = data['age'].apply(lambda x: (x-data['age'].min())/(data['age'].max()-data['age'].min()))\n",
    "data['bmi'] = data['bmi'].apply(lambda x: (x-data['bmi'].min())/(data['bmi'].max()-data['bmi'].min()))\n",
    "data['children'] = data['children'].apply(lambda x: (x-data['children'].min())/(data['children'].max()-data['children'].min()))\n",
    "\n",
    "data.head()"
   ]
  },
  {
   "cell_type": "markdown",
   "id": "cf75e5b0",
   "metadata": {
    "id": "ee1199e1",
    "papermill": {
     "duration": 0.020375,
     "end_time": "2023-11-16T21:02:14.604364",
     "exception": false,
     "start_time": "2023-11-16T21:02:14.583989",
     "status": "completed"
    },
    "tags": []
   },
   "source": [
    "# Phase 3: Training"
   ]
  },
  {
   "cell_type": "markdown",
   "id": "94664dca",
   "metadata": {
    "id": "32252d37",
    "papermill": {
     "duration": 0.020706,
     "end_time": "2023-11-16T21:02:14.646283",
     "exception": false,
     "start_time": "2023-11-16T21:02:14.625577",
     "status": "completed"
    },
    "tags": []
   },
   "source": [
    "## Sec 1: Preparing features and Targets **(P3-Sec1: 5 points)**"
   ]
  },
  {
   "cell_type": "markdown",
   "id": "c53d5ec1",
   "metadata": {
    "id": "689637db",
    "papermill": {
     "duration": 0.020542,
     "end_time": "2023-11-16T21:02:14.687360",
     "exception": false,
     "start_time": "2023-11-16T21:02:14.666818",
     "status": "completed"
    },
    "tags": []
   },
   "source": [
    "Extract only the features from the dataframe by removing the `target` column. <br>\n",
    "Note: Do not remove the previous dataframe."
   ]
  },
  {
   "cell_type": "code",
   "execution_count": 19,
   "id": "e6f74de3",
   "metadata": {
    "execution": {
     "iopub.execute_input": "2023-11-16T21:02:14.731022Z",
     "iopub.status.busy": "2023-11-16T21:02:14.730631Z",
     "iopub.status.idle": "2023-11-16T21:02:14.736228Z",
     "shell.execute_reply": "2023-11-16T21:02:14.735174Z"
    },
    "id": "f9fc205a",
    "outputId": "3cda4be4-a67a-480e-adb6-22395b2771a6",
    "papermill": {
     "duration": 0.029831,
     "end_time": "2023-11-16T21:02:14.738220",
     "exception": false,
     "start_time": "2023-11-16T21:02:14.708389",
     "status": "completed"
    },
    "tags": []
   },
   "outputs": [],
   "source": [
    "X = data.drop(['target'], axis=1)"
   ]
  },
  {
   "cell_type": "markdown",
   "id": "c5c9e84f",
   "metadata": {
    "id": "ec4b1b9f",
    "papermill": {
     "duration": 0.020592,
     "end_time": "2023-11-16T21:02:14.779401",
     "exception": false,
     "start_time": "2023-11-16T21:02:14.758809",
     "status": "completed"
    },
    "tags": []
   },
   "source": [
    "Convert the new dataframe into a numpy array **(P3-1-1: 3 points)**"
   ]
  },
  {
   "cell_type": "code",
   "execution_count": 20,
   "id": "9a9b0d4f",
   "metadata": {
    "execution": {
     "iopub.execute_input": "2023-11-16T21:02:14.822472Z",
     "iopub.status.busy": "2023-11-16T21:02:14.822057Z",
     "iopub.status.idle": "2023-11-16T21:02:14.827305Z",
     "shell.execute_reply": "2023-11-16T21:02:14.826348Z"
    },
    "id": "2108f459",
    "outputId": "5016edf7-0ffd-4aed-ca46-6a9e0c68adac",
    "papermill": {
     "duration": 0.029218,
     "end_time": "2023-11-16T21:02:14.829288",
     "exception": false,
     "start_time": "2023-11-16T21:02:14.800070",
     "status": "completed"
    },
    "tags": []
   },
   "outputs": [],
   "source": [
    "X = X.to_numpy()"
   ]
  },
  {
   "cell_type": "markdown",
   "id": "d52ca603",
   "metadata": {
    "id": "50ce4231",
    "papermill": {
     "duration": 0.02033,
     "end_time": "2023-11-16T21:02:14.870267",
     "exception": false,
     "start_time": "2023-11-16T21:02:14.849937",
     "status": "completed"
    },
    "tags": []
   },
   "source": [
    "Get the `target` column from the previous dataframe and convert it to another numpy array named `y` **(P3-1-2: 2 points)**"
   ]
  },
  {
   "cell_type": "code",
   "execution_count": 21,
   "id": "0b5254a8",
   "metadata": {
    "execution": {
     "iopub.execute_input": "2023-11-16T21:02:14.913259Z",
     "iopub.status.busy": "2023-11-16T21:02:14.912865Z",
     "iopub.status.idle": "2023-11-16T21:02:14.917786Z",
     "shell.execute_reply": "2023-11-16T21:02:14.916817Z"
    },
    "id": "398524f9",
    "outputId": "1a27b3cd-12cc-4800-a214-8b60fd4dff90",
    "papermill": {
     "duration": 0.02883,
     "end_time": "2023-11-16T21:02:14.919800",
     "exception": false,
     "start_time": "2023-11-16T21:02:14.890970",
     "status": "completed"
    },
    "tags": []
   },
   "outputs": [],
   "source": [
    "y = data['target'].to_numpy()"
   ]
  },
  {
   "cell_type": "markdown",
   "id": "b5d92c1b",
   "metadata": {
    "id": "01db8a8e",
    "papermill": {
     "duration": 0.020566,
     "end_time": "2023-11-16T21:02:14.961085",
     "exception": false,
     "start_time": "2023-11-16T21:02:14.940519",
     "status": "completed"
    },
    "tags": []
   },
   "source": [
    "## Sec 2: Splitting the Data **(P3-Sec2: 5 points)**"
   ]
  },
  {
   "cell_type": "markdown",
   "id": "30a6253c",
   "metadata": {
    "id": "e52068ba",
    "papermill": {
     "duration": 0.020307,
     "end_time": "2023-11-16T21:02:15.002138",
     "exception": false,
     "start_time": "2023-11-16T21:02:14.981831",
     "status": "completed"
    },
    "tags": []
   },
   "source": [
    "Split the dataset into two parts such that the training set (denoted as `x_train` and ‍`y_train`), contains 80% of the samples. **(P3-2: 5 points)**"
   ]
  },
  {
   "cell_type": "code",
   "execution_count": 22,
   "id": "6b113857",
   "metadata": {
    "execution": {
     "iopub.execute_input": "2023-11-16T21:02:15.045322Z",
     "iopub.status.busy": "2023-11-16T21:02:15.044917Z",
     "iopub.status.idle": "2023-11-16T21:02:15.141199Z",
     "shell.execute_reply": "2023-11-16T21:02:15.140235Z"
    },
    "id": "2f51edf6",
    "papermill": {
     "duration": 0.12107,
     "end_time": "2023-11-16T21:02:15.143855",
     "exception": false,
     "start_time": "2023-11-16T21:02:15.022785",
     "status": "completed"
    },
    "tags": []
   },
   "outputs": [],
   "source": [
    "from sklearn.model_selection import train_test_split"
   ]
  },
  {
   "cell_type": "code",
   "execution_count": 23,
   "id": "d572f89e",
   "metadata": {
    "execution": {
     "iopub.execute_input": "2023-11-16T21:02:15.187719Z",
     "iopub.status.busy": "2023-11-16T21:02:15.187050Z",
     "iopub.status.idle": "2023-11-16T21:02:15.193722Z",
     "shell.execute_reply": "2023-11-16T21:02:15.192722Z"
    },
    "papermill": {
     "duration": 0.03102,
     "end_time": "2023-11-16T21:02:15.195812",
     "exception": false,
     "start_time": "2023-11-16T21:02:15.164792",
     "status": "completed"
    },
    "tags": []
   },
   "outputs": [],
   "source": [
    "x_train, x_test, y_train, y_test = train_test_split(X, y, test_size=0.2, random_state=51)"
   ]
  },
  {
   "cell_type": "markdown",
   "id": "bc3b4302",
   "metadata": {
    "id": "3b11b352",
    "papermill": {
     "duration": 0.020417,
     "end_time": "2023-11-16T21:02:15.237255",
     "exception": false,
     "start_time": "2023-11-16T21:02:15.216838",
     "status": "completed"
    },
    "tags": []
   },
   "source": [
    "## Sec 3: Linear Regression from Scratch **(P3-Sec3: 10 points)**\n",
    "\n",
    "Complete this section with your code. **(P3-3: 10 points)**"
   ]
  },
  {
   "cell_type": "code",
   "execution_count": 24,
   "id": "269609c1",
   "metadata": {
    "execution": {
     "iopub.execute_input": "2023-11-16T21:02:15.280829Z",
     "iopub.status.busy": "2023-11-16T21:02:15.280090Z",
     "iopub.status.idle": "2023-11-16T21:02:15.288241Z",
     "shell.execute_reply": "2023-11-16T21:02:15.287280Z"
    },
    "id": "d19c47ce",
    "papermill": {
     "duration": 0.032614,
     "end_time": "2023-11-16T21:02:15.290521",
     "exception": false,
     "start_time": "2023-11-16T21:02:15.257907",
     "status": "completed"
    },
    "tags": []
   },
   "outputs": [],
   "source": [
    "class MyLinearRegression:\n",
    "    def __init__(self,lamda=0):\n",
    "        self.weights = None\n",
    "        self.lamda = lamda\n",
    "        \n",
    "\n",
    "    def fit(self, X, y):\n",
    "        \"\"\"Fit the training data\n",
    "        Parameters\n",
    "        ----------\n",
    "        x : array-like, shape = [n_samples, n_features]\n",
    "            Training samples\n",
    "        y : array-like, shape = [n_samples, n_target_values]\n",
    "            Target values\n",
    "\n",
    "        No Returns\n",
    "        \"\"\"\n",
    "        X = np.float64(np.hstack((np.ones((X.shape[0],1)),X)))\n",
    "        regulizer =  np.float64(self.lamda*np.identity(X.shape[1]))\n",
    "        self.weights = np.linalg.pinv(X.T.dot(X)+regulizer).dot(X.T).dot(y)\n",
    "        return self\n",
    "\n",
    "    def predict(self, X):\n",
    "        \"\"\" Predicts the values after the model has been trained.\n",
    "        Parameters\n",
    "        ----------\n",
    "        x : array-like, shape = [n_samples, n_features]\n",
    "            Test samples\n",
    "        Returns\n",
    "        -------\n",
    "        Predicted values\n",
    "        \"\"\"\n",
    "        X = np.float64(np.hstack((np.ones((X.shape[0],1)),X)))\n",
    "        y_predict = X.dot(self.weights)\n",
    "        return y_predict"
   ]
  },
  {
   "cell_type": "markdown",
   "id": "4c1cb9d7",
   "metadata": {
    "id": "8f4e311e",
    "papermill": {
     "duration": 0.020615,
     "end_time": "2023-11-16T21:02:15.332558",
     "exception": false,
     "start_time": "2023-11-16T21:02:15.311943",
     "status": "completed"
    },
    "tags": []
   },
   "source": [
    "## Sec 4: Fit the model to training data **(P3-Sec4: 10 points)**"
   ]
  },
  {
   "cell_type": "markdown",
   "id": "b0f07a3b",
   "metadata": {
    "id": "a158924a",
    "papermill": {
     "duration": 0.020907,
     "end_time": "2023-11-16T21:02:15.375073",
     "exception": false,
     "start_time": "2023-11-16T21:02:15.354166",
     "status": "completed"
    },
    "tags": []
   },
   "source": [
    "Fit a linear regressor to the data. (Use both regressors - sklearn & from scratch) **(P3-4-1: 2 points)**"
   ]
  },
  {
   "cell_type": "code",
   "execution_count": 25,
   "id": "25b07814",
   "metadata": {
    "execution": {
     "iopub.execute_input": "2023-11-16T21:02:15.418839Z",
     "iopub.status.busy": "2023-11-16T21:02:15.418419Z",
     "iopub.status.idle": "2023-11-16T21:02:15.427291Z",
     "shell.execute_reply": "2023-11-16T21:02:15.426174Z"
    },
    "papermill": {
     "duration": 0.034484,
     "end_time": "2023-11-16T21:02:15.430433",
     "exception": false,
     "start_time": "2023-11-16T21:02:15.395949",
     "status": "completed"
    },
    "tags": []
   },
   "outputs": [],
   "source": [
    "model = MyLinearRegression().fit(x_train, y_train)"
   ]
  },
  {
   "cell_type": "code",
   "execution_count": 26,
   "id": "a23ffc46",
   "metadata": {
    "execution": {
     "iopub.execute_input": "2023-11-16T21:02:15.504671Z",
     "iopub.status.busy": "2023-11-16T21:02:15.504001Z",
     "iopub.status.idle": "2023-11-16T21:02:15.613066Z",
     "shell.execute_reply": "2023-11-16T21:02:15.611806Z"
    },
    "id": "2bf0cb99",
    "papermill": {
     "duration": 0.149663,
     "end_time": "2023-11-16T21:02:15.616381",
     "exception": false,
     "start_time": "2023-11-16T21:02:15.466718",
     "status": "completed"
    },
    "tags": []
   },
   "outputs": [],
   "source": [
    "from sklearn.linear_model import LinearRegression\n",
    "skmodel = LinearRegression().fit(x_train, y_train)"
   ]
  },
  {
   "cell_type": "markdown",
   "id": "4681ba3b",
   "metadata": {
    "id": "0604ea17",
    "papermill": {
     "duration": 0.035482,
     "end_time": "2023-11-16T21:02:15.688525",
     "exception": false,
     "start_time": "2023-11-16T21:02:15.653043",
     "status": "completed"
    },
    "tags": []
   },
   "source": [
    "Get the coefficients of the variables (sklearn) **(P3-4-2: 3 points)**"
   ]
  },
  {
   "cell_type": "code",
   "execution_count": 27,
   "id": "dce60014",
   "metadata": {
    "execution": {
     "iopub.execute_input": "2023-11-16T21:02:15.748992Z",
     "iopub.status.busy": "2023-11-16T21:02:15.748361Z",
     "iopub.status.idle": "2023-11-16T21:02:15.754012Z",
     "shell.execute_reply": "2023-11-16T21:02:15.752588Z"
    },
    "id": "4d6fb9a9",
    "outputId": "d48a567f-6ead-47a4-a00d-c0334cd5ed9f",
    "papermill": {
     "duration": 0.03214,
     "end_time": "2023-11-16T21:02:15.756382",
     "exception": false,
     "start_time": "2023-11-16T21:02:15.724242",
     "status": "completed"
    },
    "tags": []
   },
   "outputs": [
    {
     "name": "stdout",
     "output_type": "stream",
     "text": [
      "[ 1.21499674e+04  1.29600946e+04  2.18752041e+03  4.15411768e+02\n",
      "  4.41910854e+02 -4.54028335e+02 -4.03294287e+02 -8.24528928e+00\n",
      "  8.24528928e+00 -1.17349486e+04  1.17349486e+04]\n"
     ]
    }
   ],
   "source": [
    "print(skmodel.coef_)"
   ]
  },
  {
   "cell_type": "code",
   "execution_count": 28,
   "id": "9d1dc9b8",
   "metadata": {
    "execution": {
     "iopub.execute_input": "2023-11-16T21:02:15.800483Z",
     "iopub.status.busy": "2023-11-16T21:02:15.800121Z",
     "iopub.status.idle": "2023-11-16T21:02:15.806915Z",
     "shell.execute_reply": "2023-11-16T21:02:15.805852Z"
    },
    "papermill": {
     "duration": 0.031457,
     "end_time": "2023-11-16T21:02:15.809036",
     "exception": false,
     "start_time": "2023-11-16T21:02:15.777579",
     "status": "completed"
    },
    "tags": []
   },
   "outputs": [
    {
     "data": {
      "text/plain": [
       "array([ 3997.76009668, 12149.96743456, 12960.094609  ,  2187.52040875,\n",
       "        1414.85179174,  1441.35087845,   545.41168931,   596.14573718,\n",
       "        1990.63475906,  2007.12533762, -9736.0685974 , 13733.82869408])"
      ]
     },
     "execution_count": 28,
     "metadata": {},
     "output_type": "execute_result"
    }
   ],
   "source": [
    "model.weights"
   ]
  },
  {
   "cell_type": "markdown",
   "id": "c18b597e",
   "metadata": {
    "id": "a015255e",
    "papermill": {
     "duration": 0.020865,
     "end_time": "2023-11-16T21:02:15.850858",
     "exception": false,
     "start_time": "2023-11-16T21:02:15.829993",
     "status": "completed"
    },
    "tags": []
   },
   "source": [
    "Get the score value of sklearn regressor on train dataset (sklearn) **(P3-4-3: 5 points)**"
   ]
  },
  {
   "cell_type": "code",
   "execution_count": 29,
   "id": "4fd6eb13",
   "metadata": {
    "execution": {
     "iopub.execute_input": "2023-11-16T21:02:15.894318Z",
     "iopub.status.busy": "2023-11-16T21:02:15.893946Z",
     "iopub.status.idle": "2023-11-16T21:02:15.907343Z",
     "shell.execute_reply": "2023-11-16T21:02:15.906108Z"
    },
    "id": "7f75a009",
    "outputId": "327b0138-4632-4283-cb68-91be1f86a8b4",
    "papermill": {
     "duration": 0.039877,
     "end_time": "2023-11-16T21:02:15.911651",
     "exception": false,
     "start_time": "2023-11-16T21:02:15.871774",
     "status": "completed"
    },
    "tags": []
   },
   "outputs": [
    {
     "data": {
      "text/plain": [
       "0.740441362934225"
      ]
     },
     "execution_count": 29,
     "metadata": {},
     "output_type": "execute_result"
    }
   ],
   "source": [
    "skmodel.score(x_train, y_train)"
   ]
  },
  {
   "cell_type": "markdown",
   "id": "a9d0141c",
   "metadata": {
    "id": "4fc41ff7",
    "papermill": {
     "duration": 0.03674,
     "end_time": "2023-11-16T21:02:15.985552",
     "exception": false,
     "start_time": "2023-11-16T21:02:15.948812",
     "status": "completed"
    },
    "tags": []
   },
   "source": [
    "# Phase 4: Evaluation"
   ]
  },
  {
   "cell_type": "markdown",
   "id": "c4939431",
   "metadata": {
    "id": "pokhZKbfnxEu",
    "papermill": {
     "duration": 0.021753,
     "end_time": "2023-11-16T21:02:16.042594",
     "exception": false,
     "start_time": "2023-11-16T21:02:16.020841",
     "status": "completed"
    },
    "tags": []
   },
   "source": [
    "## Sec 1: Evaluate both models and compare the results **(P4-Sec1: 20 points)**"
   ]
  },
  {
   "cell_type": "markdown",
   "id": "3514c23a",
   "metadata": {
    "id": "37c78322",
    "papermill": {
     "duration": 0.021212,
     "end_time": "2023-11-16T21:02:16.085303",
     "exception": false,
     "start_time": "2023-11-16T21:02:16.064091",
     "status": "completed"
    },
    "tags": []
   },
   "source": [
    "Predict the value of \"y\" for each \"x\" belonging to the \"testing\" set (use both regressors) **(P4-1-1: 10 points)**"
   ]
  },
  {
   "cell_type": "code",
   "execution_count": 30,
   "id": "a8c87166",
   "metadata": {
    "execution": {
     "iopub.execute_input": "2023-11-16T21:02:16.129967Z",
     "iopub.status.busy": "2023-11-16T21:02:16.129577Z",
     "iopub.status.idle": "2023-11-16T21:02:16.135487Z",
     "shell.execute_reply": "2023-11-16T21:02:16.134275Z"
    },
    "id": "1ade9347",
    "papermill": {
     "duration": 0.030754,
     "end_time": "2023-11-16T21:02:16.137660",
     "exception": false,
     "start_time": "2023-11-16T21:02:16.106906",
     "status": "completed"
    },
    "tags": []
   },
   "outputs": [],
   "source": [
    "sk_prediction = skmodel.predict(x_test)\n",
    "my_prediction = model.predict(x_test)"
   ]
  },
  {
   "cell_type": "markdown",
   "id": "abec043b",
   "metadata": {
    "id": "9bc059bf",
    "papermill": {
     "duration": 0.021077,
     "end_time": "2023-11-16T21:02:16.180482",
     "exception": false,
     "start_time": "2023-11-16T21:02:16.159405",
     "status": "completed"
    },
    "tags": []
   },
   "source": [
    "Compute the mean squared error **(P4-1-2: 5 points)**"
   ]
  },
  {
   "cell_type": "code",
   "execution_count": 31,
   "id": "4b2cb500",
   "metadata": {
    "execution": {
     "iopub.execute_input": "2023-11-16T21:02:16.226274Z",
     "iopub.status.busy": "2023-11-16T21:02:16.225191Z",
     "iopub.status.idle": "2023-11-16T21:02:16.231895Z",
     "shell.execute_reply": "2023-11-16T21:02:16.230774Z"
    },
    "id": "c259c493",
    "outputId": "1395f093-4ad7-420a-dd24-612f0a926189",
    "papermill": {
     "duration": 0.032251,
     "end_time": "2023-11-16T21:02:16.234090",
     "exception": false,
     "start_time": "2023-11-16T21:02:16.201839",
     "status": "completed"
    },
    "tags": []
   },
   "outputs": [
    {
     "name": "stdout",
     "output_type": "stream",
     "text": [
      "36747124.30117958\n",
      "36747124.30117955\n"
     ]
    }
   ],
   "source": [
    "\n",
    "from sklearn.metrics import mean_squared_error\n",
    "sk_mse = mean_squared_error(y_test, sk_prediction)\n",
    "my_mse = mean_squared_error(y_test, my_prediction)\n",
    "print(sk_mse)\n",
    "print(my_mse)"
   ]
  },
  {
   "cell_type": "markdown",
   "id": "865df455",
   "metadata": {
    "id": "04b0fe21",
    "papermill": {
     "duration": 0.021425,
     "end_time": "2023-11-16T21:02:16.276963",
     "exception": false,
     "start_time": "2023-11-16T21:02:16.255538",
     "status": "completed"
    },
    "tags": []
   },
   "source": [
    "Calculate the maximum error for each regressor **(P4-1-3: 5 points)**"
   ]
  },
  {
   "cell_type": "code",
   "execution_count": 32,
   "id": "39d3bd13",
   "metadata": {
    "execution": {
     "iopub.execute_input": "2023-11-16T21:02:16.322292Z",
     "iopub.status.busy": "2023-11-16T21:02:16.320913Z",
     "iopub.status.idle": "2023-11-16T21:02:16.328199Z",
     "shell.execute_reply": "2023-11-16T21:02:16.327081Z"
    },
    "id": "35dbdec9",
    "outputId": "f01dbc9e-a33d-42cf-ec67-bf2aca942108",
    "papermill": {
     "duration": 0.033508,
     "end_time": "2023-11-16T21:02:16.331956",
     "exception": false,
     "start_time": "2023-11-16T21:02:16.298448",
     "status": "completed"
    },
    "tags": []
   },
   "outputs": [
    {
     "name": "stdout",
     "output_type": "stream",
     "text": [
      "24171.38804154331\n",
      "24171.388041543287\n"
     ]
    }
   ],
   "source": [
    "print(max(np.abs(sk_prediction-y_test)))\n",
    "print(max(np.abs(my_prediction-y_test)))"
   ]
  },
  {
   "cell_type": "markdown",
   "id": "d7263901",
   "metadata": {
    "id": "416b6766",
    "papermill": {
     "duration": 0.021487,
     "end_time": "2023-11-16T21:02:16.375594",
     "exception": false,
     "start_time": "2023-11-16T21:02:16.354107",
     "status": "completed"
    },
    "tags": []
   },
   "source": [
    "# Phase 5 (Optional): Submit your predictions to our Kaggle competition"
   ]
  },
  {
   "cell_type": "markdown",
   "id": "8fc4ec90",
   "metadata": {
    "id": "e162e26a",
    "papermill": {
     "duration": 0.021344,
     "end_time": "2023-11-16T21:02:16.419360",
     "exception": false,
     "start_time": "2023-11-16T21:02:16.398016",
     "status": "completed"
    },
    "tags": []
   },
   "source": [
    "Competition Link: https://www.kaggle.com/t/de023973d4cb4993ab6cc023a3c0ae6c<br>\n",
    "You'll have to make a csv file containing two columns: `ID` and `target`, and submit the file.<br>"
   ]
  },
  {
   "cell_type": "code",
   "execution_count": null,
   "id": "be6d6a12",
   "metadata": {
    "papermill": {
     "duration": 0.021814,
     "end_time": "2023-11-16T21:02:16.463981",
     "exception": false,
     "start_time": "2023-11-16T21:02:16.442167",
     "status": "completed"
    },
    "tags": []
   },
   "outputs": [],
   "source": []
  }
 ],
 "metadata": {
  "kaggle": {
   "accelerator": "none",
   "dataSources": [],
   "isGpuEnabled": false,
   "isInternetEnabled": true,
   "language": "python",
   "sourceType": "notebook"
  },
  "kernelspec": {
   "display_name": "Python 3",
   "language": "python",
   "name": "python3"
  },
  "language_info": {
   "codemirror_mode": {
    "name": "ipython",
    "version": 3
   },
   "file_extension": ".py",
   "mimetype": "text/x-python",
   "name": "python",
   "nbconvert_exporter": "python",
   "pygments_lexer": "ipython3",
   "version": "3.10.12"
  },
  "papermill": {
   "default_parameters": {},
   "duration": 17.368609,
   "end_time": "2023-11-16T21:02:17.105383",
   "environment_variables": {},
   "exception": null,
   "input_path": "__notebook__.ipynb",
   "output_path": "__notebook__.ipynb",
   "parameters": {},
   "start_time": "2023-11-16T21:01:59.736774",
   "version": "2.4.0"
  }
 },
 "nbformat": 4,
 "nbformat_minor": 5
}
